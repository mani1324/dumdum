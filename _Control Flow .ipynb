{
 "cells": [
  {
   "cell_type": "markdown",
   "id": "c2e0924e-8901-4a7f-9b0d-9ea7daed4c8c",
   "metadata": {},
   "source": [
    "\n",
    "Control Flow"
   ]
  },
  {
   "cell_type": "raw",
   "id": "49854842-2d89-47cc-b9fd-37a4e439ce2f",
   "metadata": {},
   "source": [
    "Basic If-Else Statements:"
   ]
  },
  {
   "cell_type": "code",
   "execution_count": 6,
   "id": "79384a4d-954e-4b01-801e-f7b7a4a3e965",
   "metadata": {},
   "outputs": [
    {
     "name": "stdin",
     "output_type": "stream",
     "text": [
      "enter a number :  120\n"
     ]
    },
    {
     "name": "stdout",
     "output_type": "stream",
     "text": [
      "120 is positive number.\n"
     ]
    }
   ],
   "source": [
    "#1. Write a Python program to check if a given number is positive or negative.\n",
    "\n",
    "number = int(input(\"enter a number : \"))\n",
    "if number>0:\n",
    "    print(f\"{number} is positive number.\")\n",
    "elif number == 0:\n",
    "    print(\"Number is 0 \")\n",
    "else:\n",
    "    print(f\"{number} is negative number.\")"
   ]
  },
  {
   "cell_type": "code",
   "execution_count": 9,
   "id": "c548f56e-dd11-4be3-bc72-64800e8d27e6",
   "metadata": {},
   "outputs": [
    {
     "name": "stdin",
     "output_type": "stream",
     "text": [
      "Enter your age :  17\n"
     ]
    },
    {
     "name": "stdout",
     "output_type": "stream",
     "text": [
      "You are not eligible\n"
     ]
    }
   ],
   "source": [
    "#2. Create a program that determines if a person is eligible to vote based on their age.\n",
    "age=int(input(\"Enter your age : \"))\n",
    "if age >=18:\n",
    "    print(\"You are eligible\")\n",
    "else:\n",
    "    print(\"You are not eligible\")"
   ]
  },
  {
   "cell_type": "code",
   "execution_count": 12,
   "id": "9f9f8c78-9dd3-49ff-833c-d947d0549427",
   "metadata": {},
   "outputs": [
    {
     "name": "stdout",
     "output_type": "stream",
     "text": [
      "maximum number is : 11\n"
     ]
    }
   ],
   "source": [
    "#3. Develop a program to find the maximum of two numbers using if-else statements.\n",
    "num_1 = 11\n",
    "num_2 = 6\n",
    "if num_1 >= num_2:\n",
    "    print('maximum number is :',num_1)\n",
    "else:\n",
    "    print('maximum number is :',num_2)"
   ]
  },
  {
   "cell_type": "code",
   "execution_count": 4,
   "id": "a98a51f8-9dca-49af-a79b-b4ca1a5b6b6d",
   "metadata": {},
   "outputs": [
    {
     "name": "stdin",
     "output_type": "stream",
     "text": [
      " year :  2001\n"
     ]
    },
    {
     "name": "stdout",
     "output_type": "stream",
     "text": [
      "2001 is not leap year.\n"
     ]
    }
   ],
   "source": [
    "#4. Write a Python script to classify a given year as a leap year or not.\n",
    "Year = int(input(\" year : \"))\n",
    "if Year % 4== 0:\n",
    "    print(f\"{Year} is leap year.\")\n",
    "else:\n",
    "    print(f\"{Year} is not leap year.\")           \n",
    "               "
   ]
  },
  {
   "cell_type": "code",
   "execution_count": 2,
   "id": "1dd8af52-3d02-4a4d-aba1-af8d68d3fef5",
   "metadata": {},
   "outputs": [
    {
     "name": "stdin",
     "output_type": "stream",
     "text": [
      "Enter a character:  N\n"
     ]
    },
    {
     "name": "stdout",
     "output_type": "stream",
     "text": [
      "N is a consonant.\n"
     ]
    }
   ],
   "source": [
    "#5. Create a program that checks whether a character is a vowel or a consonant.\n",
    "\n",
    "character = input(\"Enter a character: \")\n",
    "\n",
    "\n",
    "if character in 'AEIOUaeiou':\n",
    "    print(f\"{character} is a vowel.\")\n",
    "else:\n",
    "    print(f\"{character} is a consonant.\")"
   ]
  },
  {
   "cell_type": "code",
   "execution_count": 9,
   "id": "fddf5d8e-b477-4103-b9fe-b29fb7041f39",
   "metadata": {},
   "outputs": [
    {
     "name": "stdin",
     "output_type": "stream",
     "text": [
      " enter anumber 5\n"
     ]
    },
    {
     "name": "stdout",
     "output_type": "stream",
     "text": [
      "5 is odd number.\n"
     ]
    }
   ],
   "source": [
    "#6. Implement a program to determine whether a given number is even or odd.\n",
    "number = int(input(\" enter anumber\"))\n",
    "if number %2==0:\n",
    "    print(f\"{number} is even number.\")\n",
    "else:\n",
    "    print(f\"{number} is odd number.\")             "
   ]
  },
  {
   "cell_type": "code",
   "execution_count": 11,
   "id": "fe553b7a-ca28-49a5-9bf0-a5bf6e47c158",
   "metadata": {},
   "outputs": [
    {
     "name": "stdin",
     "output_type": "stream",
     "text": [
      "enter anumber :  -1.5\n"
     ]
    },
    {
     "name": "stdout",
     "output_type": "stream",
     "text": [
      "absolute value 1.5\n"
     ]
    }
   ],
   "source": [
    "#7. Write a Python function to calculate the absolute value of a number without using the `abs()` function.\n",
    "input_number=float(input(\"enter anumber : \"))\n",
    "if input_number < 0:\n",
    "    print(\"absolute value\",input_number*(-1))\n",
    "else:\n",
    "    print(\"absolute value\",input_number)"
   ]
  },
  {
   "cell_type": "code",
   "execution_count": 3,
   "id": "0292aff6-5201-4e17-af99-0f96ba8a18d0",
   "metadata": {},
   "outputs": [
    {
     "name": "stdout",
     "output_type": "stream",
     "text": [
      "largest number is 33\n"
     ]
    }
   ],
   "source": [
    "#8. Develop a program that determines the largest of three given numbers using if-else statements.\n",
    "number_1 = 11\n",
    "number_2 = 22\n",
    "number_3 = 33\n",
    "\n",
    "if (number_1>=number_2) and (number_1>=number_3):\n",
    "    largest=number_1\n",
    "    print(\"largest number is\",largest)\n",
    "elif (number_2>=number_1) and (number_2>=number_3):\n",
    "    largest=number_2\n",
    "    print(\"largest number is\",largest)\n",
    "else:\n",
    "    largest=number_3\n",
    "    print(\"largest number is\",largest)\n"
   ]
  },
  {
   "cell_type": "code",
   "execution_count": 5,
   "id": "71c9793f-c7da-48c1-bfee-ca8631fd914c",
   "metadata": {},
   "outputs": [
    {
     "name": "stdin",
     "output_type": "stream",
     "text": [
      "Enter a string :  racecar\n"
     ]
    },
    {
     "name": "stdout",
     "output_type": "stream",
     "text": [
      "racecar is a palindrome.\n"
     ]
    }
   ],
   "source": [
    "#9. Create a program that checks if a given string is a palindrome.\n",
    "input_string=input(\"Enter a string : \")\n",
    "if input_string==input_string[::-1]:\n",
    "     print(f\"{input_string} is a palindrome.\")\n",
    "else:\n",
    "    print(f\"{input_string} is not a palindrome.\")\n",
    "    "
   ]
  },
  {
   "cell_type": "code",
   "execution_count": 6,
   "id": "d2ea3bdb-55e6-4942-80c3-7d91d51281f7",
   "metadata": {},
   "outputs": [
    {
     "name": "stdin",
     "output_type": "stream",
     "text": [
      "Enter the student's score:  88\n"
     ]
    },
    {
     "name": "stdout",
     "output_type": "stream",
     "text": [
      "The student's grade is: B\n"
     ]
    }
   ],
   "source": [
    "#10. Write a Python program to calculate the grade based on a student's score.\n",
    "# Input the student's score\n",
    "score = float(input(\"Enter the student's score: \"))\n",
    "\n",
    "# Calculate and display the grade\n",
    "if score >= 90:\n",
    "    grade = \"A\"\n",
    "elif score >= 80:\n",
    "    grade = \"B\"\n",
    "elif score >= 70:\n",
    "    grade = \"C\"\n",
    "elif score >= 60:\n",
    "    grade = \"D\"\n",
    "else:\n",
    "    grade = \"F\"\n",
    "\n",
    "print(f\"The student's grade is: {grade}\")"
   ]
  },
  {
   "cell_type": "markdown",
   "id": "a8f70310-59f3-4a38-9454-9a691460366f",
   "metadata": {},
   "source": [
    "Nested If-Else Statements:"
   ]
  },
  {
   "cell_type": "code",
   "execution_count": 1,
   "id": "c3f10567-0b59-4c63-b5a7-0ad6666fb9d0",
   "metadata": {},
   "outputs": [
    {
     "name": "stdin",
     "output_type": "stream",
     "text": [
      "Enter the first number:  55\n",
      "Enter the second number:  66\n",
      "Enter the third number:  77\n"
     ]
    },
    {
     "name": "stdout",
     "output_type": "stream",
     "text": [
      "The largest number among 55.0 , 66.0 and 77.0 is 77.0\n"
     ]
    }
   ],
   "source": [
    "#11. Write a program to find the largest among three numbers using nested if-else statements.\n",
    "number_1 = float(input(\"Enter the first number: \"))\n",
    "number_2 =  float(input(\"Enter the second number: \"))\n",
    "number_3 =  float(input(\"Enter the third number: \"))\n",
    "\n",
    "if number_1 >= number_2:\n",
    "    if number_1 >= number_3:\n",
    "        largest = number_1\n",
    "    else:\n",
    "        largest = number_3\n",
    "else:\n",
    "    if number_2 >= number_3:\n",
    "        largest = number_2\n",
    "    else:\n",
    "        largest = number_3\n",
    "print(\"The largest number among\", number_1, \",\", number_2, \"and\", number_3, \"is\", largest)        \n",
    "        "
   ]
  },
  {
   "cell_type": "code",
   "execution_count": 2,
   "id": "d7132a62-f0c8-405b-a78b-2532372f2bc0",
   "metadata": {},
   "outputs": [
    {
     "name": "stdin",
     "output_type": "stream",
     "text": [
      "Enter the length of the first side:  4\n",
      "Enter the length of the second side:  5\n",
      "Enter the length of the third side:  6\n"
     ]
    },
    {
     "name": "stdout",
     "output_type": "stream",
     "text": [
      "This is a scalene triangle.\n"
     ]
    }
   ],
   "source": [
    "#12. Implement a program to determine if a triangle is equilateral, isosceles, or scalene.\n",
    "# Input the lengths of the three sides of the triangle\n",
    "side_1 = float(input(\"Enter the length of the first side: \"))\n",
    "side_2 = float(input(\"Enter the length of the second side: \"))\n",
    "side_3 = float(input(\"Enter the length of the third side: \"))\n",
    "\n",
    "# Check if the triangle is equilateral, isosceles, or scalene\n",
    "if side_1 == side_2 == side_3:\n",
    "    print(\"This is an equilateral triangle.\")\n",
    "elif side_1 == side_2 or side_1 == side_3 or side_2 == side_3:\n",
    "    print(\"This is an isosceles triangle.\")\n",
    "else:\n",
    "    print(\"This is a scalene triangle.\")\n"
   ]
  },
  {
   "cell_type": "code",
   "execution_count": 3,
   "id": "d63ffcb4-d17c-4b5a-8e67-03c6c31d9efd",
   "metadata": {},
   "outputs": [
    {
     "name": "stdin",
     "output_type": "stream",
     "text": [
      "Enter a year:  2023\n"
     ]
    },
    {
     "name": "stdout",
     "output_type": "stream",
     "text": [
      "2023 is not a leap year.\n",
      "2023 is not a century year.\n"
     ]
    }
   ],
   "source": [
    "#13. Develop a program that checks if a year is a leap year and also if it is a century year.\n",
    "# Input the year from the user\n",
    "year = int(input(\"Enter a year: \"))\n",
    "\n",
    "# Check if it's a leap year\n",
    "is_leap_year = (year % 4 == 0 and (year % 100 != 0 or year % 400 == 0))\n",
    "\n",
    "# Check if it's a century year\n",
    "is_century_year = (year % 100 == 0)\n",
    "\n",
    "# Display the results\n",
    "if is_leap_year:\n",
    "    print(year, \"is a leap year.\")\n",
    "else:\n",
    "    print(year, \"is not a leap year.\")\n",
    "\n",
    "if is_century_year:\n",
    "    print(year, \"is a century year.\")\n",
    "else:\n",
    "    print(year, \"is not a century year.\")\n"
   ]
  },
  {
   "cell_type": "code",
   "execution_count": 1,
   "id": "257de7f6-e1d5-49ba-ba15-8767cd487773",
   "metadata": {},
   "outputs": [
    {
     "name": "stdin",
     "output_type": "stream",
     "text": [
      "Enter a number :  17\n"
     ]
    },
    {
     "name": "stdout",
     "output_type": "stream",
     "text": [
      "Number is positive\n"
     ]
    }
   ],
   "source": [
    "#14. Write a Python script to determine if a number is positive, negative, or zero.\n",
    "num = int(input(\"Enter a number : \"))\n",
    "if num >= 0:\n",
    "    if num >0:\n",
    "        print(\"Number is positive\")\n",
    "    else:\n",
    "        print(\"Number is zero\")\n",
    "else:\n",
    "    print(\"Number is negative\")"
   ]
  },
  {
   "cell_type": "code",
   "execution_count": 4,
   "id": "3a0056d2-68fa-4215-bb4d-0663a8851675",
   "metadata": {},
   "outputs": [
    {
     "name": "stdin",
     "output_type": "stream",
     "text": [
      "Enter your age:  55\n"
     ]
    },
    {
     "name": "stdout",
     "output_type": "stream",
     "text": [
      "You are not a teenager.\n"
     ]
    }
   ],
   "source": [
    "#15. Create a program to check if a person is a teenager (between 13 and 19 years old).\n",
    "age = int(input(\"Enter your age: \"))\n",
    "\n",
    "# Check if the age falls within the teenage range (13 to 19) using nested if-else statements\n",
    "if age >= 13:\n",
    "    if age <= 19:\n",
    "        print(\"You are a teenager.\")\n",
    "    else:\n",
    "        print(\"You are not a teenager.\")\n",
    "else:\n",
    "    print(\"You are not a teenager.\")\n",
    "        "
   ]
  },
  {
   "cell_type": "code",
   "execution_count": 9,
   "id": "9d8edf04-ad17-4bb5-bf85-3679c2426148",
   "metadata": {},
   "outputs": [
    {
     "name": "stdin",
     "output_type": "stream",
     "text": [
      "Enter the measure of the angle (in degrees):  69\n"
     ]
    },
    {
     "name": "stdout",
     "output_type": "stream",
     "text": [
      "The angle is acute.\n"
     ]
    }
   ],
   "source": [
    "#16. Develop a program that determines the type of angle based on its measure (acute, obtuse, or right).\n",
    "angle = float(input(\"Enter the measure of the angle (in degrees): \"))\n",
    "if 0<angle<180:\n",
    "    if angle<90:\n",
    "        print(\"The angle is acute.\")\n",
    "    if angle ==90:\n",
    "        print(\"The angle is right angle.\")\n",
    "    if angle > 90 and angle < 180:\n",
    "        print(\"The angle is obtuse.\")    \n",
    "        \n",
    "else:\n",
    "    print(\"The angle is neither acute, right, nor obtuse.\")\n",
    "  \n",
    "\n",
    "    \n",
    "        "
   ]
  },
  {
   "cell_type": "code",
   "execution_count": 1,
   "id": "a7d8ee90-32ac-4d62-b81e-07c645e739fe",
   "metadata": {},
   "outputs": [
    {
     "name": "stdin",
     "output_type": "stream",
     "text": [
      "Enter the coefficient a:  5\n",
      "Enter the coefficient b:  4\n",
      "Enter the coefficient c:  9\n"
     ]
    },
    {
     "name": "stdout",
     "output_type": "stream",
     "text": [
      "The roots are complex.\n",
      "Root 1: -0.4 + 1.2806248474865698i\n",
      "Root 2: -0.4 - 1.2806248474865698i\n"
     ]
    }
   ],
   "source": [
    "#17. Write a Python program to calculate the roots of a quadratic equation.\n",
    "\n",
    "# Input coefficients a, b, and c from the user\n",
    "a = float(input(\"Enter the coefficient a: \"))\n",
    "b = float(input(\"Enter the coefficient b: \"))\n",
    "c = float(input(\"Enter the coefficient c: \"))\n",
    "\n",
    "# Calculate the discriminant\n",
    "discriminant = b**2 - 4*a*c\n",
    "\n",
    "# Check the discriminant to determine the type of roots using nested if-else statements\n",
    "if discriminant > 0:\n",
    "    # Two real and distinct roots\n",
    "    root1 = (-b + (discriminant ** 0.5)) / (2*a)\n",
    "    root2 = (-b - (discriminant ** 0.5)) / (2*a)\n",
    "    print(\"The roots are real and distinct.\")\n",
    "    print(f\"Root 1: {root1}\")\n",
    "    print(f\"Root 2: {root2}\")\n",
    "elif discriminant == 0:\n",
    "    # One real root (repeated)\n",
    "    root = -b / (2*a)\n",
    "    print(\"There is one real root (repeated).\")\n",
    "    print(f\"Root: {root}\")\n",
    "else:\n",
    "    # Complex roots\n",
    "    real_part = -b / (2*a)\n",
    "    imaginary_part = (abs(discriminant) ** 0.5) / (2*a)\n",
    "    print(\"The roots are complex.\")\n",
    "    print(f\"Root 1: {real_part} + {imaginary_part}i\")\n",
    "    print(f\"Root 2: {real_part} - {imaginary_part}i\")\n"
   ]
  },
  {
   "cell_type": "code",
   "execution_count": 2,
   "id": "e39dc290-ed03-47fb-a04e-66162846ebfb",
   "metadata": {},
   "outputs": [
    {
     "name": "stdin",
     "output_type": "stream",
     "text": [
      "Enter a number (1-7) to determine the day of the week:  1\n"
     ]
    },
    {
     "name": "stdout",
     "output_type": "stream",
     "text": [
      "The day of the week corresponding to 1 is Monday.\n"
     ]
    }
   ],
   "source": [
    "\"\"\" 18. Implement a program to determine the day of the week based on a user-provided number (1 for Monday, 2\n",
    "for Tuesday, etc.).\"\"\"\n",
    "# Define a dictionary to map numbers to day names\n",
    "day_number_to_name = {\n",
    "    1: \"Monday\",\n",
    "    2: \"Tuesday\",\n",
    "    3: \"Wednesday\",\n",
    "    4: \"Thursday\",\n",
    "    5: \"Friday\",\n",
    "    6: \"Saturday\",\n",
    "    7: \"Sunday\"\n",
    "}\n",
    "\n",
    "# Input a number from the user\n",
    "try:\n",
    "    day_number = int(input(\"Enter a number (1-7) to determine the day of the week: \"))\n",
    "    \n",
    "    # Check if the input is within the valid range (1-7)\n",
    "    if 1 <= day_number <= 7:\n",
    "        # Use the dictionary to determine the day name\n",
    "        day_name = day_number_to_name[day_number]\n",
    "        print(f\"The day of the week corresponding to {day_number} is {day_name}.\")\n",
    "    else:\n",
    "        print(\"Invalid input. Please enter a number between 1 and 7.\")\n",
    "except ValueError:\n",
    "    print(\"Invalid input. Please enter a valid number.\")\n"
   ]
  },
  {
   "cell_type": "code",
   "execution_count": 6,
   "id": "1837bd1b-afe1-4f04-b4e7-2a326fb5fff3",
   "metadata": {},
   "outputs": [
    {
     "name": "stdin",
     "output_type": "stream",
     "text": [
      "Enter a year:  20001\n"
     ]
    },
    {
     "name": "stdout",
     "output_type": "stream",
     "text": [
      "20001 is not a leap year.\n"
     ]
    }
   ],
   "source": [
    "'''19. Create a program that determines if a year is a leap year and also if it is evenly divisible by 400.\n",
    "year = int(input())'''\n",
    "year = int(input(\"Enter a year: \"))\n",
    "if year % 4 == 0:\n",
    "    if year % 100 !=0:\n",
    "        print(f\"{year} is a leap year.\")\n",
    "else:\n",
    "    print(f\"{year} is not a leap year.\")"
   ]
  },
  {
   "cell_type": "code",
   "execution_count": 7,
   "id": "210a4b2f-ebde-426b-98e2-a4a4fddef81e",
   "metadata": {},
   "outputs": [
    {
     "name": "stdin",
     "output_type": "stream",
     "text": [
      "Enter a number:  20\n"
     ]
    },
    {
     "name": "stdout",
     "output_type": "stream",
     "text": [
      "20 is not a prime number.\n"
     ]
    }
   ],
   "source": [
    "#20. Develop a program that checks if a given number is prime or not using nested if-else statements.\n",
    "# Input a number from the user\n",
    "num = int(input(\"Enter a number: \"))\n",
    "\n",
    "# Check if the number is greater than 1\n",
    "if num > 1:\n",
    "    # Check for factors\n",
    "    for i in range(2, num):\n",
    "        if (num % i) == 0:\n",
    "            print(f\"{num} is not a prime number.\")\n",
    "            break\n",
    "    else:\n",
    "        print(f\"{num} is a prime number.\")\n",
    "else:\n",
    "    print(f\"{num} is not a prime number.\")\n"
   ]
  },
  {
   "cell_type": "markdown",
   "id": "4af3a4a0-245d-4419-9d93-d4241018e5bf",
   "metadata": {},
   "source": [
    "Elif Statements:"
   ]
  },
  {
   "cell_type": "code",
   "execution_count": 8,
   "id": "7e38de82-80c3-4154-87ed-a6131f0a87ab",
   "metadata": {},
   "outputs": [
    {
     "name": "stdin",
     "output_type": "stream",
     "text": [
      "Enter the student's score:  58\n"
     ]
    },
    {
     "name": "stdout",
     "output_type": "stream",
     "text": [
      "The student's grade is: F\n"
     ]
    }
   ],
   "source": [
    "#21. Write a Python program to assign grades based on different ranges of scores using elif statements.\n",
    "# Input the student's score\n",
    "score = float(input(\"Enter the student's score: \"))\n",
    "\n",
    "# Calculate and display the grade\n",
    "if score >= 90:\n",
    "    grade = \"A\"\n",
    "elif score >= 80:\n",
    "    grade = \"B\"\n",
    "elif score >= 70:\n",
    "    grade = \"C\"\n",
    "elif score >= 60:\n",
    "    grade = \"D\"\n",
    "else:\n",
    "    grade = \"F\"\n",
    "\n",
    "print(f\"The student's grade is: {grade}\")"
   ]
  },
  {
   "cell_type": "code",
   "execution_count": 9,
   "id": "61a3acf7-7928-4426-b648-dad0ff1b4671",
   "metadata": {},
   "outputs": [
    {
     "name": "stdin",
     "output_type": "stream",
     "text": [
      "Enter the first angle in degrees:  90\n",
      "Enter the second angle in degrees:  45\n",
      "Enter the third angle in degrees:  45\n"
     ]
    },
    {
     "name": "stdout",
     "output_type": "stream",
     "text": [
      "This is a right triangle.\n"
     ]
    }
   ],
   "source": [
    "#22. Implement a program to determine the type of a triangle based on its angles.\n",
    "# Input the three angles of the triangle\n",
    "angle1 = float(input(\"Enter the first angle in degrees: \"))\n",
    "angle2 = float(input(\"Enter the second angle in degrees: \"))\n",
    "angle3 = float(input(\"Enter the third angle in degrees: \"))\n",
    "\n",
    "# Calculate the sum of angles\n",
    "angle_sum = angle1 + angle2 + angle3\n",
    "\n",
    "# Check if the angles form a valid triangle\n",
    "if angle_sum == 180:\n",
    "    # Check the type of triangle based on angle values\n",
    "    if angle1 < 90 and angle2 < 90 and angle3 < 90:\n",
    "        print(\"This is an acute triangle.\")\n",
    "    elif angle1 == 90 or angle2 == 90 or angle3 == 90:\n",
    "        print(\"This is a right triangle.\")\n",
    "    else:\n",
    "        print(\"This is an obtuse triangle.\")\n",
    "else:\n",
    "    print(\"These angles do not form a valid triangle.\")\n"
   ]
  },
  {
   "cell_type": "code",
   "execution_count": 10,
   "id": "260d70a4-e3ae-461a-b60f-07b0ea49624a",
   "metadata": {},
   "outputs": [
    {
     "name": "stdin",
     "output_type": "stream",
     "text": [
      "Enter weight (kg):  3.2\n",
      "Enter height (m):  67\n"
     ]
    },
    {
     "name": "stdout",
     "output_type": "stream",
     "text": [
      "BMI: 0.00\n",
      "Category: Underweight\n"
     ]
    }
   ],
   "source": [
    "\"\"\"23. Develop a program to categorize a given person's BMI into underweight, normal, overweight, or obese using\n",
    "elif statements.\"\"\"\n",
    "\n",
    "# Input the person's weight (in kilograms) and height (in meters)\n",
    "weight = float(input(\"Enter weight (kg): \"))\n",
    "height = float(input(\"Enter height (m): \"))\n",
    "\n",
    "# Calculate BMI\n",
    "bmi = weight / (height * height)\n",
    "\n",
    "# Categorize BMI\n",
    "if bmi < 18.5:\n",
    "    category = \"Underweight\"\n",
    "elif 18.5 <= bmi < 24.9:\n",
    "    category = \"Normal\"\n",
    "elif 24.9 <= bmi < 29.9:\n",
    "    category = \"Overweight\"\n",
    "else:\n",
    "    category = \"Obese\"\n",
    "\n",
    "# Print the BMI category\n",
    "print(f\"BMI: {bmi:.2f}\")\n",
    "print(f\"Category: {category}\")\n"
   ]
  },
  {
   "cell_type": "code",
   "execution_count": 11,
   "id": "c322244e-d433-48af-b2a8-a59806226091",
   "metadata": {},
   "outputs": [
    {
     "name": "stdin",
     "output_type": "stream",
     "text": [
      "Enter a number:  5\n"
     ]
    },
    {
     "name": "stdout",
     "output_type": "stream",
     "text": [
      "The number is positive.\n"
     ]
    }
   ],
   "source": [
    "\"\"\"24. Create a program that determines whether a given number is positive, negative, or zero using elif\n",
    "statements.\"\"\"\n",
    "\n",
    "# Input a number from the user\n",
    "num = float(input(\"Enter a number: \"))\n",
    "\n",
    "# Check if the number is positive, negative, or zero\n",
    "if num > 0:\n",
    "    print(\"The number is positive.\")\n",
    "elif num < 0:\n",
    "    print(\"The number is negative.\")\n",
    "else:\n",
    "    print(\"The number is zero.\")\n"
   ]
  },
  {
   "cell_type": "code",
   "execution_count": 12,
   "id": "29244400-a124-4fb0-b4b6-5c3f71db7239",
   "metadata": {},
   "outputs": [
    {
     "name": "stdin",
     "output_type": "stream",
     "text": [
      "Enter a character:  #\n"
     ]
    },
    {
     "name": "stdout",
     "output_type": "stream",
     "text": [
      "The character is special.\n"
     ]
    }
   ],
   "source": [
    "\"\"\" 25. Write a Python script to determine the type of a character (uppercase, lowercase, or special) using elif\n",
    "statements.\"\"\"\n",
    "\n",
    "char = input(\"Enter a character: \")\n",
    "if char.isupper():\n",
    "    print(\"The character is uppercase.\")\n",
    "elif char.islower():\n",
    "    print(\"The character is lowercase.\")\n",
    "else:\n",
    "    print(\"The character is special.\")     \n"
   ]
  },
  {
   "cell_type": "code",
   "execution_count": 13,
   "id": "075622a6-db3f-44b4-98ef-ed6721344def",
   "metadata": {},
   "outputs": [
    {
     "name": "stdin",
     "output_type": "stream",
     "text": [
      "Enter the purchase amount:  6969\n"
     ]
    },
    {
     "name": "stdout",
     "output_type": "stream",
     "text": [
      "The price of the product is 4878.299999999999\n"
     ]
    }
   ],
   "source": [
    "\"\"\" 26. Implement a program to calculate the discounted price based on different purchase amounts using elif\n",
    "statements.\"\"\"\n",
    "\n",
    "purchase_amount = float(input(\"Enter the purchase amount: \"))\n",
    "if purchase_amount > 4000:\n",
    "    print(f\"The price of the product is {purchase_amount*0.7}\") # 30% discount for purchases of Rs-4000 or more\n",
    "elif  2500<=purchase_amount<=3000:\n",
    "    print(f\"The price of the product is {purchase_amount*0.8}\")  # 20% discount for purchases between Rs-2500 and Rs-3000\n",
    "elif 2000<=purchase_amount<2500:\n",
    "    print(f\"The price of the product is {purchase_amount*0.85}\")  # 15% discount for purchases between Rs-2000 and Rs-2499.99\n",
    "else:\n",
    "    print(\"sorry no discount\") # No discount for purchases less than Rs-2000\n"
   ]
  },
  {
   "cell_type": "code",
   "execution_count": 18,
   "id": "92a5e613-6d18-4161-a43e-560e5b8dbe90",
   "metadata": {},
   "outputs": [
    {
     "name": "stdin",
     "output_type": "stream",
     "text": [
      "Enter the electricity consumption (kWh):  124\n"
     ]
    },
    {
     "name": "stdout",
     "output_type": "stream",
     "text": [
      "Electricity consumption: 124.0 kWh\n",
      "Electricity bill: Rs 602.16\n"
     ]
    }
   ],
   "source": [
    "\"\"\" 27. Develop a program to calculate the electricity bill based on different consumption slabs using elif\n",
    "statements.\"\"\"\n",
    "\n",
    "# Input the electricity consumption in kilowatt-hours (kWh) from the user\n",
    "consumption = float(input(\"Enter the electricity consumption (kWh): \"))\n",
    "\n",
    "# Define the tiered pricing structure\n",
    "slab1_limit = 100  # kWh\n",
    "slab2_limit = 200  # kWh\n",
    "slab3_limit = 300  # kWh\n",
    "rate_slab1 = 4.5  # Rate for the first 100 kWh\n",
    "rate_slab2 = 6.34  # Rate for the next 100 kWh\n",
    "rate_slab3 = 8.52  # Rate for the next 100 kWh\n",
    "\n",
    "# Calculate the electricity bill based on consumption\n",
    "if consumption <= slab1_limit:\n",
    "    bill = consumption * rate_slab1\n",
    "elif consumption <= slab2_limit:\n",
    "    bill = (slab1_limit * rate_slab1) + ((consumption - slab1_limit) * rate_slab2)\n",
    "elif consumption <= slab3_limit:\n",
    "    bill = (slab1_limit * rate_slab1) + (slab2_limit * rate_slab2) + ((consumption - slab2_limit) * rate_slab3)\n",
    "else:\n",
    "    # For consumption above the highest tier\n",
    "    bill = (slab1_limit * rate_slab1) + (slab2_limit * rate_slab2) + (slab3_limit * rate_slab3) + ((consumption - slab3_limit) * rate_slab3)\n",
    "\n",
    "# Display the electricity bill\n",
    "print(f\"Electricity consumption: {consumption} kWh\")\n",
    "print(f\"Electricity bill: Rs {bill:.2f}\")\n"
   ]
  },
  {
   "cell_type": "code",
   "execution_count": 19,
   "id": "e20da5b6-19b6-4d97-ba38-881152de3f34",
   "metadata": {},
   "outputs": [
    {
     "name": "stdin",
     "output_type": "stream",
     "text": [
      "Enter the first angle in degrees:  50\n",
      "Enter the second angle in degrees:  60\n",
      "Enter the third angle in degrees:  70\n",
      "Enter the fourth angle in degrees:  90\n",
      "Enter the length of the first side:  60\n",
      "Enter the length of the second side:  4\n",
      "Enter the length of the third side:  5\n",
      "Enter the length of the fourth side:  5\n"
     ]
    },
    {
     "name": "stdout",
     "output_type": "stream",
     "text": [
      "This is not a valid quadrilateral.\n"
     ]
    }
   ],
   "source": [
    "\"\"\" 28. Create a program to determine the type of quadrilateral based on its angles and sides using elif\n",
    "statements.\"\"\"\n",
    "\n",
    "# Input the angles and side lengths of the quadrilateral\n",
    "angle1 = float(input(\"Enter the first angle in degrees: \"))\n",
    "angle2 = float(input(\"Enter the second angle in degrees: \"))\n",
    "angle3 = float(input(\"Enter the third angle in degrees: \"))\n",
    "angle4 = float(input(\"Enter the fourth angle in degrees: \"))\n",
    "side1 = float(input(\"Enter the length of the first side: \"))\n",
    "side2 = float(input(\"Enter the length of the second side: \"))\n",
    "side3 = float(input(\"Enter the length of the third side: \"))\n",
    "side4 = float(input(\"Enter the length of the fourth side: \"))\n",
    "\n",
    "# Check if it's a valid quadrilateral based on angle sum and side lengths\n",
    "angle_sum = angle1 + angle2 + angle3 + angle4\n",
    "if angle_sum == 360 and side1 > 0 and side2 > 0 and side3 > 0 and side4 > 0:\n",
    "    # Check the type of quadrilateral\n",
    "    if angle1 == angle2 == angle3 == angle4 == 90:\n",
    "        print(\"This is a square.\")\n",
    "    elif angle1 == angle3 and angle2 == angle4 and side1 == side2 == side3 == side4:\n",
    "        print(\"This is a rectangle.\")\n",
    "    elif side1 == side2 == side3 == side4 and (angle1 == angle3 or angle2 == angle4):\n",
    "        print(\"This is a parallelogram.\")\n",
    "    elif side1 == side3 and side2 == side4 and angle1 == angle4 and angle2 == angle3:\n",
    "        print(\"This is a rhombus.\")\n",
    "    else:\n",
    "        print(\"This is a general quadrilateral.\")\n",
    "else:\n",
    "    print(\"This is not a valid quadrilateral.\")\n"
   ]
  },
  {
   "cell_type": "code",
   "execution_count": 20,
   "id": "fa064459-4ddc-445f-8ff2-a9cac1890793",
   "metadata": {},
   "outputs": [
    {
     "name": "stdin",
     "output_type": "stream",
     "text": [
      "Enter a month (e.g., January, February, etc.):  may\n"
     ]
    },
    {
     "name": "stdout",
     "output_type": "stream",
     "text": [
      "The season for May is Spring.\n"
     ]
    }
   ],
   "source": [
    "\"\"\" 29. Write a Python script to determine the season based on a user-provided month using elif statements.\"\"\"\n",
    "# Input the month from the user\n",
    "month = input(\"Enter a month (e.g., January, February, etc.): \")\n",
    "\n",
    "# Convert the input to lowercase for case-insensitive comparison\n",
    "month = month.lower()\n",
    "\n",
    "# Determine the season based on the month\n",
    "if month in [\"december\", \"january\", \"february\"]:\n",
    "    season = \"Winter\"\n",
    "elif month in [\"march\", \"april\", \"may\"]:\n",
    "    season = \"Spring\"\n",
    "elif month in [\"june\", \"july\", \"august\"]:\n",
    "    season = \"Summer\"\n",
    "elif month in [\"september\", \"october\", \"november\"]:\n",
    "    season = \"Autumn (Fall)\"\n",
    "else:\n",
    "    season = \"Invalid Month\"\n",
    "\n",
    "# Display the season\n",
    "print(f\"The season for {month.capitalize()} is {season}.\")\n"
   ]
  },
  {
   "cell_type": "code",
   "execution_count": 22,
   "id": "e58b27db-e05d-42ac-8c32-29da916b2635",
   "metadata": {},
   "outputs": [
    {
     "name": "stdin",
     "output_type": "stream",
     "text": [
      "Enter a year:  2001\n",
      "Enter a month (e.g., January, February, etc.):  june\n"
     ]
    },
    {
     "name": "stdout",
     "output_type": "stream",
     "text": [
      "The month of June in 2001 has 30 days.\n",
      "2001 is a common year.\n"
     ]
    }
   ],
   "source": [
    "\"\"\" 30. Implement a program to determine the type of a year (leap or common) and month (30 or 31 days) using\n",
    "elif statements.\"\"\"\n",
    "\n",
    "# Input the year and month from the user\n",
    "year = int(input(\"Enter a year: \"))\n",
    "month = input(\"Enter a month (e.g., January, February, etc.): \")\n",
    "\n",
    "# Convert the input month to lowercase for case-insensitive comparison\n",
    "month = month.lower()\n",
    "\n",
    "# Determine if it's a leap year\n",
    "is_leap_year = (year % 4 == 0 and year % 100 != 0) or (year % 400 == 0)\n",
    "\n",
    "# Determine the number of days in the month based on the month name\n",
    "if month in [\"january\", \"march\", \"may\", \"july\", \"august\", \"october\", \"december\"]:\n",
    "    days_in_month = 31\n",
    "elif month in [\"april\", \"june\", \"september\", \"november\"]:\n",
    "    days_in_month = 30\n",
    "elif month == \"february\":\n",
    "    days_in_month = 29 if is_leap_year else 28\n",
    "else:\n",
    "    days_in_month = \"Invalid Month\"\n",
    "\n",
    "# Display the results\n",
    "if days_in_month == \"Invalid Month\":\n",
    "    print(\"Invalid month entered.\")\n",
    "else:\n",
    "    print(f\"The month of {month.capitalize()} in {year} has {days_in_month} days.\")\n",
    "    if is_leap_year:\n",
    "        print(f\"{year} is a leap year.\")\n",
    "    else:\n",
    "        print(f\"{year} is a common year.\")\n"
   ]
  },
  {
   "cell_type": "code",
   "execution_count": null,
   "id": "3b0f6c3f-87df-484d-99b3-8f0d319f6723",
   "metadata": {},
   "outputs": [],
   "source": []
  },
  {
   "cell_type": "markdown",
   "id": "e00aee9e-1c02-40fa-a59f-d34f4c7b3bb8",
   "metadata": {},
   "source": [
    "Basic Level:"
   ]
  },
  {
   "cell_type": "code",
   "execution_count": 1,
   "id": "7f657053-5ee6-47bf-8dbf-506444900dd0",
   "metadata": {},
   "outputs": [
    {
     "name": "stdin",
     "output_type": "stream",
     "text": [
      "enter a number :  5\n"
     ]
    },
    {
     "name": "stdout",
     "output_type": "stream",
     "text": [
      "5 is positive number.\n"
     ]
    }
   ],
   "source": [
    "#1. Write a Python program that checks if a given number is positive, negative, or zero.\n",
    "number = int(input(\"enter a number : \"))\n",
    "if number>0:\n",
    "    print(f\"{number} is positive number.\")\n",
    "elif number == 0:\n",
    "    print(\"Number is 0 \")\n",
    "else:\n",
    "    print(f\"{number} is negative number.\")"
   ]
  },
  {
   "cell_type": "code",
   "execution_count": 2,
   "id": "d9d61d86-5a7a-47f4-b044-6e0302fb58d2",
   "metadata": {},
   "outputs": [
    {
     "name": "stdin",
     "output_type": "stream",
     "text": [
      "Enter your age :  18\n"
     ]
    },
    {
     "name": "stdout",
     "output_type": "stream",
     "text": [
      "You are eligible\n"
     ]
    }
   ],
   "source": [
    "#2. Create a program that determines if a person is eligible to vote based on their age.\n",
    "age=int(input(\"Enter your age : \"))\n",
    "if age >=18:\n",
    "    print(\"You are eligible\")\n",
    "else:\n",
    "    print(\"You are not eligible\")"
   ]
  },
  {
   "cell_type": "code",
   "execution_count": 3,
   "id": "2d707259-e816-4b42-b972-85ff0cb763e8",
   "metadata": {},
   "outputs": [
    {
     "name": "stdout",
     "output_type": "stream",
     "text": [
      "maximum number is : 11\n"
     ]
    }
   ],
   "source": [
    "#3. Develop a program to find the maximum of two numbers using if-else statements.\n",
    "num_1 = 11\n",
    "num_2 = 6\n",
    "if num_1 >= num_2:\n",
    "    print('maximum number is :',num_1)\n",
    "else:\n",
    "    print('maximum number is :',num_2)"
   ]
  },
  {
   "cell_type": "code",
   "execution_count": 4,
   "id": "d2d42b59-501d-4361-9604-c822b2a1d938",
   "metadata": {},
   "outputs": [
    {
     "name": "stdin",
     "output_type": "stream",
     "text": [
      "Enter the student's score:  88\n"
     ]
    },
    {
     "name": "stdout",
     "output_type": "stream",
     "text": [
      "The student's grade is: B\n"
     ]
    }
   ],
   "source": [
    "#04. Write a Python program to calculate the grade based on a student's score.\n",
    "# Input the student's score\n",
    "score = float(input(\"Enter the student's score: \"))\n",
    "\n",
    "# Calculate and display the grade\n",
    "if score >= 90:\n",
    "    grade = \"A\"\n",
    "elif score >= 80:\n",
    "    grade = \"B\"\n",
    "elif score >= 70:\n",
    "    grade = \"C\"\n",
    "elif score >= 60:\n",
    "    grade = \"D\"\n",
    "else:\n",
    "    grade = \"F\"\n",
    "\n",
    "print(f\"The student's grade is: {grade}\")"
   ]
  },
  {
   "cell_type": "code",
   "execution_count": 5,
   "id": "ef7c9a1b-3e35-4f1c-b86b-f50a7579941f",
   "metadata": {},
   "outputs": [
    {
     "name": "stdin",
     "output_type": "stream",
     "text": [
      " year :  2008\n"
     ]
    },
    {
     "name": "stdout",
     "output_type": "stream",
     "text": [
      "2008 is leap year.\n"
     ]
    }
   ],
   "source": [
    "#5. Write a Python script to classify a given year as a leap year or not.\n",
    "Year = int(input(\" year : \"))\n",
    "if Year % 4== 0:\n",
    "    print(f\"{Year} is leap year.\")\n",
    "else:\n",
    "    print(f\"{Year} is not leap year.\")           \n",
    "               "
   ]
  },
  {
   "cell_type": "code",
   "execution_count": 1,
   "id": "76a0c2d4-399d-4ff0-8c64-b2179f2f01a2",
   "metadata": {},
   "outputs": [
    {
     "name": "stdin",
     "output_type": "stream",
     "text": [
      "Enter the length of side a:  5\n",
      "Enter the length of side b:  5\n",
      "Enter the length of side c:  8\n"
     ]
    },
    {
     "name": "stdout",
     "output_type": "stream",
     "text": [
      "The triangle is: Isosceles Triangle\n"
     ]
    }
   ],
   "source": [
    "#6. Write a program to classify a triangle based on its sides' lengths.\n",
    "\n",
    "def classify_triangle(a, b, c):\n",
    "    # Check if the triangle is valid\n",
    "    if a <= 0 or b <= 0 or c <= 0 or (a + b <= c) or (a + c <= b) or (b + c <= a):\n",
    "        return \"Invalid Triangle\"\n",
    "\n",
    "    # Check for the type of triangle\n",
    "    if a == b == c:\n",
    "        return \"Equilateral Triangle\"\n",
    "    elif a == b or b == c or a == c:\n",
    "        return \"Isosceles Triangle\"\n",
    "    else:\n",
    "        return \"Scalene Triangle\"\n",
    "\n",
    "# Input side lengths\n",
    "a = float(input(\"Enter the length of side a: \"))\n",
    "b = float(input(\"Enter the length of side b: \"))\n",
    "c = float(input(\"Enter the length of side c: \"))\n",
    "\n",
    "# Classify the triangle and print the result\n",
    "result = classify_triangle(a, b, c)\n",
    "print(\"The triangle is:\", result)\n"
   ]
  },
  {
   "cell_type": "code",
   "execution_count": 3,
   "id": "3177cf0c-2a3e-4513-b05f-bcde47f681cc",
   "metadata": {},
   "outputs": [
    {
     "name": "stdin",
     "output_type": "stream",
     "text": [
      "enter first number :  11\n",
      "enter second number :  12\n",
      "enter third number :  12\n"
     ]
    },
    {
     "name": "stdout",
     "output_type": "stream",
     "text": [
      "largest number is 12.0\n"
     ]
    }
   ],
   "source": [
    "#7. Build a program that determines the largest of three given numbers.\n",
    "\n",
    "number_1 =float(input(\"enter first number : \"))\n",
    "number_2 =float(input(\"enter second number : \"))\n",
    "number_3 =float(input(\"enter third number : \"))\n",
    "\n",
    "if (number_1>=number_2) and (number_1>=number_3):\n",
    "    largest=number_1\n",
    "    print(\"largest number is\",largest)\n",
    "elif (number_2>=number_1) and (number_2>=number_3):\n",
    "    largest=number_2\n",
    "    print(\"largest number is\",largest)\n",
    "else:\n",
    "    largest=number_3\n",
    "    print(\"largest number is\",largest)\n"
   ]
  },
  {
   "cell_type": "code",
   "execution_count": 4,
   "id": "329b8c3b-a5b0-4185-b91b-03c7d45aea6d",
   "metadata": {},
   "outputs": [
    {
     "name": "stdin",
     "output_type": "stream",
     "text": [
      "Enter a character:  a\n"
     ]
    },
    {
     "name": "stdout",
     "output_type": "stream",
     "text": [
      "a is a vowel.\n"
     ]
    }
   ],
   "source": [
    "#8. Develop a program that checks whether a character is a vowel or a consonant.\n",
    "\n",
    "character = input(\"Enter a character: \")\n",
    "\n",
    "\n",
    "if character in 'AEIOUaeiou':\n",
    "    print(f\"{character} is a vowel.\")\n",
    "else:\n",
    "    print(f\"{character} is a consonant.\")"
   ]
  },
  {
   "cell_type": "code",
   "execution_count": 6,
   "id": "5a764da2-9cbf-4ed7-ab2c-d36b3a40ff63",
   "metadata": {},
   "outputs": [
    {
     "name": "stdin",
     "output_type": "stream",
     "text": [
      "Enter the item name (or 'done' to finish):  milk\n",
      "Enter the item price:  120\n",
      "Enter the quantity:  2\n",
      "Enter the discount percentage (0 for no discount):  10\n",
      "Enter the item name (or 'done' to finish):  done\n"
     ]
    },
    {
     "name": "stdout",
     "output_type": "stream",
     "text": [
      "Total cost of the shopping cart: Rs 216.00\n"
     ]
    }
   ],
   "source": [
    "#9. Create a program to calculate the total cost of a shopping cart based on discounts.\n",
    "\n",
    "def calculate_total_cost(cart_items):\n",
    "    total_cost = 0\n",
    "\n",
    "    for item in cart_items:\n",
    "        item_name, item_price, item_quantity, discount_percentage = item\n",
    "        item_total = item_price * item_quantity\n",
    "\n",
    "        if discount_percentage > 0:\n",
    "            discount_amount = (item_total * discount_percentage) / 100\n",
    "            item_total -= discount_amount\n",
    "\n",
    "        total_cost += item_total\n",
    "\n",
    "    return total_cost\n",
    "\n",
    "def main():\n",
    "    cart_items = []\n",
    "    while True:\n",
    "        item_name = input(\"Enter the item name (or 'done' to finish): \")\n",
    "        if item_name.lower() == 'done':\n",
    "            break\n",
    "\n",
    "        item_price = float(input(\"Enter the item price: \"))\n",
    "        item_quantity = int(input(\"Enter the quantity: \"))\n",
    "        discount_percentage = float(input(\"Enter the discount percentage (0 for no discount): \"))\n",
    "\n",
    "        cart_items.append((item_name, item_price, item_quantity, discount_percentage))\n",
    "\n",
    "    total_cost = calculate_total_cost(cart_items)\n",
    "    print(f\"Total cost of the shopping cart: Rs {total_cost:.2f}\")\n",
    "\n",
    "if __name__ == \"__main__\":\n",
    "    main()\n"
   ]
  },
  {
   "cell_type": "code",
   "execution_count": 10,
   "id": "98605073-b754-4d51-96dd-43a1c3f0c61c",
   "metadata": {},
   "outputs": [
    {
     "name": "stdin",
     "output_type": "stream",
     "text": [
      "neter a number : 8\n"
     ]
    },
    {
     "name": "stdout",
     "output_type": "stream",
     "text": [
      "8 is even\n"
     ]
    }
   ],
   "source": [
    "#10. Write a program that checks if a given number is even or odd.\n",
    "\n",
    "user_input=int(input(\"neter a number :\"))\n",
    "\n",
    "if user_input %  2 ==0:\n",
    "    print(f\"{user_input} is even\")\n",
    "else:\n",
    "    print(f\"{user_input} is odd\")"
   ]
  },
  {
   "cell_type": "code",
   "execution_count": null,
   "id": "3453e094-e669-4c90-9f29-c5635b0c2191",
   "metadata": {},
   "outputs": [],
   "source": []
  },
  {
   "cell_type": "markdown",
   "id": "512628e0-5258-4a9e-9d7e-7b3a1bc6f751",
   "metadata": {},
   "source": [
    "Intermediate Level:"
   ]
  },
  {
   "cell_type": "code",
   "execution_count": 11,
   "id": "39903090-87ed-46d5-8785-93b653dbdceb",
   "metadata": {},
   "outputs": [
    {
     "name": "stdin",
     "output_type": "stream",
     "text": [
      "Enter the coefficient a:  4\n",
      "Enter the coefficient b:  4\n",
      "Enter the coefficient c:  1\n"
     ]
    },
    {
     "name": "stdout",
     "output_type": "stream",
     "text": [
      "There is one real root (repeated).\n",
      "Root: -0.5\n"
     ]
    }
   ],
   "source": [
    "#11. Write a program that calculates the roots of a quadratic equation .\n",
    "\n",
    "# Input coefficients a, b, and c from the user\n",
    "a = float(input(\"Enter the coefficient a: \"))\n",
    "b = float(input(\"Enter the coefficient b: \"))\n",
    "c = float(input(\"Enter the coefficient c: \"))\n",
    "\n",
    "# Calculate the discriminant\n",
    "discriminant = b**2 - 4*a*c\n",
    "\n",
    "# Check the discriminant to determine the type of roots using nested if-else statements\n",
    "if discriminant > 0:\n",
    "    # Two real and distinct roots\n",
    "    root1 = (-b + (discriminant ** 0.5)) / (2*a)\n",
    "    root2 = (-b - (discriminant ** 0.5)) / (2*a)\n",
    "    print(\"The roots are real and distinct.\")\n",
    "    print(f\"Root 1: {root1}\")\n",
    "    print(f\"Root 2: {root2}\")\n",
    "elif discriminant == 0:\n",
    "    # One real root (repeated)\n",
    "    root = -b / (2*a)\n",
    "    print(\"There is one real root (repeated).\")\n",
    "    print(f\"Root: {root}\")\n",
    "else:\n",
    "    # Complex roots\n",
    "    real_part = -b / (2*a)\n",
    "    imaginary_part = (abs(discriminant) ** 0.5) / (2*a)\n",
    "    print(\"The roots are complex.\")\n",
    "    print(f\"Root 1: {real_part} + {imaginary_part}i\")\n",
    "    print(f\"Root 2: {real_part} - {imaginary_part}i\")\n"
   ]
  },
  {
   "cell_type": "code",
   "execution_count": 12,
   "id": "df34d953-15c2-40b5-908a-46ea16143938",
   "metadata": {},
   "outputs": [
    {
     "name": "stdin",
     "output_type": "stream",
     "text": [
      "Enter a number (1-7) to determine the day of the week:  5\n"
     ]
    },
    {
     "name": "stdout",
     "output_type": "stream",
     "text": [
      "The day of the week corresponding to 5 is Friday.\n"
     ]
    }
   ],
   "source": [
    "#12. Create a program that determines the day of the week based on the day number (1-7).\n",
    "\n",
    "# Define a dictionary to map numbers to day names\n",
    "day_number_to_name = {\n",
    "    1: \"Monday\",\n",
    "    2: \"Tuesday\",\n",
    "    3: \"Wednesday\",\n",
    "    4: \"Thursday\",\n",
    "    5: \"Friday\",\n",
    "    6: \"Saturday\",\n",
    "    7: \"Sunday\"\n",
    "}\n",
    "\n",
    "# Input a number from the user\n",
    "try:\n",
    "    day_number = int(input(\"Enter a number (1-7) to determine the day of the week: \"))\n",
    "    \n",
    "    # Check if the input is within the valid range (1-7)\n",
    "    if 1 <= day_number <= 7:\n",
    "        # Use the dictionary to determine the day name\n",
    "        day_name = day_number_to_name[day_number]\n",
    "        print(f\"The day of the week corresponding to {day_number} is {day_name}.\")\n",
    "    else:\n",
    "        print(\"Invalid input. Please enter a number between 1 and 7.\")\n",
    "except ValueError:\n",
    "    print(\"Invalid input. Please enter a valid number.\")\n"
   ]
  },
  {
   "cell_type": "code",
   "execution_count": 13,
   "id": "ebf49086-b1bd-4a8d-9c4c-1db4c500d92f",
   "metadata": {},
   "outputs": [
    {
     "name": "stdin",
     "output_type": "stream",
     "text": [
      "Enter a number:  8\n"
     ]
    },
    {
     "name": "stdout",
     "output_type": "stream",
     "text": [
      "The factorial of 8 is 40320\n"
     ]
    }
   ],
   "source": [
    "#13. Develop a program that calculates the factorial of a given number using recursion.\n",
    "\n",
    "def factorial(n):\n",
    "    if n == 0:\n",
    "        return 1\n",
    "    else:\n",
    "        return n * factorial(n - 1)\n",
    "\n",
    "# Input a number from the user\n",
    "number = int(input(\"Enter a number: \"))\n",
    "\n",
    "# Check if the number is non-negative\n",
    "if number < 0:\n",
    "    print(\"Factorial is not defined for negative numbers.\")\n",
    "else:\n",
    "    result = factorial(number)\n",
    "    print(f\"The factorial of {number} is {result}\")\n"
   ]
  },
  {
   "cell_type": "code",
   "execution_count": 14,
   "id": "b37e823a-1b46-41ce-bfd8-4906054ebc20",
   "metadata": {},
   "outputs": [
    {
     "name": "stdin",
     "output_type": "stream",
     "text": [
      "Enter the first number:  12\n",
      "Enter the second number:  13\n",
      "Enter the third number:  15\n"
     ]
    },
    {
     "name": "stdout",
     "output_type": "stream",
     "text": [
      "The largest number among 12.0, 13.0, and 15.0 is 15.0\n"
     ]
    }
   ],
   "source": [
    "#14. Write a program to find the largest among three numbers without using the `max()` function.\n",
    "\n",
    "# Input three numbers from the user\n",
    "num1 = float(input(\"Enter the first number: \"))\n",
    "num2 = float(input(\"Enter the second number: \"))\n",
    "num3 = float(input(\"Enter the third number: \"))\n",
    "\n",
    "# Compare the numbers to find the largest\n",
    "if num1 >= num2 and num1 >= num3:\n",
    "    largest = num1\n",
    "elif num2 >= num1 and num2 >= num3:\n",
    "    largest = num2\n",
    "else:\n",
    "    largest = num3\n",
    "\n",
    "print(f\"The largest number among {num1}, {num2}, and {num3} is {largest}\")\n"
   ]
  },
  {
   "cell_type": "code",
   "execution_count": 15,
   "id": "fd6b4ec8-a147-445b-a8de-60abba9cdf77",
   "metadata": {},
   "outputs": [
    {
     "name": "stdout",
     "output_type": "stream",
     "text": [
      "==== ATM Menu ====\n",
      "1. Check Balance\n",
      "2. Deposit\n",
      "3. Withdraw\n",
      "4. Quit\n"
     ]
    },
    {
     "name": "stdin",
     "output_type": "stream",
     "text": [
      "Enter your choice (1/2/3/4):  2\n",
      "Enter the amount to deposit:  5000\n"
     ]
    },
    {
     "name": "stdout",
     "output_type": "stream",
     "text": [
      "$5000.00 has been deposited into your account.\n",
      "==== ATM Menu ====\n",
      "1. Check Balance\n",
      "2. Deposit\n",
      "3. Withdraw\n",
      "4. Quit\n"
     ]
    },
    {
     "name": "stdin",
     "output_type": "stream",
     "text": [
      "Enter your choice (1/2/3/4):  4\n"
     ]
    },
    {
     "name": "stdout",
     "output_type": "stream",
     "text": [
      "Thank you for using the ATM. Goodbye!\n"
     ]
    }
   ],
   "source": [
    "#15. Create a program that simulates a basic ATM transaction menu.\n",
    "\n",
    "# Initialize the account balance\n",
    "account_balance = 1000\n",
    "\n",
    "def display_menu():\n",
    "    print(\"==== ATM Menu ====\")\n",
    "    print(\"1. Check Balance\")\n",
    "    print(\"2. Deposit\")\n",
    "    print(\"3. Withdraw\")\n",
    "    print(\"4. Quit\")\n",
    "\n",
    "def check_balance():\n",
    "    print(f\"Your account balance is ${account_balance:.2f}\")\n",
    "\n",
    "def deposit():\n",
    "    global account_balance\n",
    "    amount = float(input(\"Enter the amount to deposit: \"))\n",
    "    if amount > 0:\n",
    "        account_balance += amount\n",
    "        print(f\"${amount:.2f} has been deposited into your account.\")\n",
    "    else:\n",
    "        print(\"Invalid amount. Please enter a positive number.\")\n",
    "\n",
    "def withdraw():\n",
    "    global account_balance\n",
    "    amount = float(input(\"Enter the amount to withdraw: \"))\n",
    "    if amount > 0:\n",
    "        if amount <= account_balance:\n",
    "            account_balance -= amount\n",
    "            print(f\"${amount:.2f} has been withdrawn from your account.\")\n",
    "        else:\n",
    "            print(\"Insufficient balance.\")\n",
    "    else:\n",
    "        print(\"Invalid amount. Please enter a positive number.\")\n",
    "\n",
    "while True:\n",
    "    display_menu()\n",
    "    choice = input(\"Enter your choice (1/2/3/4): \")\n",
    "\n",
    "    if choice == \"1\":\n",
    "        check_balance()\n",
    "    elif choice == \"2\":\n",
    "        deposit()\n",
    "    elif choice == \"3\":\n",
    "        withdraw()\n",
    "    elif choice == \"4\":\n",
    "        print(\"Thank you for using the ATM. Goodbye!\")\n",
    "        break\n",
    "    else:\n",
    "        print(\"Invalid choice. Please select a valid option.\")\n"
   ]
  },
  {
   "cell_type": "code",
   "execution_count": 16,
   "id": "c864c07c-dac2-49a9-a502-a57edca2ee5d",
   "metadata": {},
   "outputs": [
    {
     "name": "stdin",
     "output_type": "stream",
     "text": [
      "Enter a string :  5\n"
     ]
    },
    {
     "name": "stdout",
     "output_type": "stream",
     "text": [
      "5 is a palindrome.\n"
     ]
    }
   ],
   "source": [
    "#16. Build a program that checks if a given string is a palindrome or not.\n",
    "\n",
    "input_string=input(\"Enter a string : \")\n",
    "if input_string==input_string[::-1]:\n",
    "     print(f\"{input_string} is a palindrome.\")\n",
    "else:\n",
    "    print(f\"{input_string} is not a palindrome.\")\n",
    "    "
   ]
  },
  {
   "cell_type": "code",
   "execution_count": 17,
   "id": "dafb3196-dc24-4f1b-b6aa-a660936a2593",
   "metadata": {},
   "outputs": [
    {
     "name": "stdin",
     "output_type": "stream",
     "text": [
      "Enter a list of numbers separated by spaces:  2 5 8 7 9 \n"
     ]
    },
    {
     "name": "stdout",
     "output_type": "stream",
     "text": [
      "The average excluding the smallest and largest values is: 6.67\n"
     ]
    }
   ],
   "source": [
    "#17. Write a program that calculates the average of a list of numbers, excluding the smallest and largest values.\n",
    "\n",
    "# Input a list of numbers from the user\n",
    "num_list = input(\"Enter a list of numbers separated by spaces: \").split()\n",
    "\n",
    "# Convert the input to a list of floats\n",
    "numbers = [float(x) for x in num_list]\n",
    "\n",
    "# Check if there are enough numbers for exclusion\n",
    "if len(numbers) < 3:\n",
    "    print(\"Please provide at least 3 numbers for exclusion.\")\n",
    "else:\n",
    "    # Exclude the smallest and largest values\n",
    "    numbers.remove(min(numbers))\n",
    "    numbers.remove(max(numbers))\n",
    "\n",
    "    # Calculate the average of the remaining numbers\n",
    "    average = sum(numbers) / len(numbers)\n",
    "    print(f\"The average excluding the smallest and largest values is: {average:.2f}\")\n"
   ]
  },
  {
   "cell_type": "code",
   "execution_count": 18,
   "id": "260f4d5c-9fa1-4b71-b941-544240135020",
   "metadata": {},
   "outputs": [
    {
     "name": "stdin",
     "output_type": "stream",
     "text": [
      "Enter the temperature in Celsius:  37\n"
     ]
    },
    {
     "name": "stdout",
     "output_type": "stream",
     "text": [
      "37.0 degrees Celsius is equal to 98.60 degrees Fahrenheit.\n"
     ]
    }
   ],
   "source": [
    "#18. Develop a program that converts a given temperature from Celsius to Fahrenheit.\n",
    "# Input the temperature in Celsius from the user\n",
    "celsius = float(input(\"Enter the temperature in Celsius: \"))\n",
    "\n",
    "# Convert Celsius to Fahrenheit\n",
    "fahrenheit = (celsius * 9/5) + 32\n",
    "\n",
    "# Display the result\n",
    "print(f\"{celsius} degrees Celsius is equal to {fahrenheit:.2f} degrees Fahrenheit.\")\n"
   ]
  },
  {
   "cell_type": "code",
   "execution_count": 20,
   "id": "1e4e4690-c1eb-4ccd-bda5-3ef8af5cb1cd",
   "metadata": {},
   "outputs": [
    {
     "name": "stdin",
     "output_type": "stream",
     "text": [
      " 45\n",
      " 15\n",
      " +\n"
     ]
    },
    {
     "name": "stdout",
     "output_type": "stream",
     "text": [
      "60\n"
     ]
    }
   ],
   "source": [
    "#19. Create a program that simulates a basic calculator for addition, subtraction, multiplication, and division.\n",
    "\n",
    "number_1=int(input())\n",
    "number_2=int(input())\n",
    "operator=input( )\n",
    "if operator == \"+\":\n",
    "    print(number_1 + number_2)\n",
    "elif operator == \"-\":\n",
    "    print(nunber_1 - number_2)\n",
    "elif operator == \"*\":\n",
    "    print(number_1 * number_2)\n",
    "elif operator == \"/\":\n",
    "    print(number_1 / number_2)\n",
    "else:\n",
    "    print(\"Invalid\")\n",
    "    "
   ]
  },
  {
   "cell_type": "code",
   "execution_count": 21,
   "id": "e05be1ce-45e7-443e-b38c-e9a9b8f1dd39",
   "metadata": {},
   "outputs": [
    {
     "name": "stdin",
     "output_type": "stream",
     "text": [
      "Enter the coefficient a:  5\n",
      "Enter the coefficient b:  8\n",
      "Enter the coefficient c:  7\n",
      "Enter the coefficient d:  2\n"
     ]
    },
    {
     "name": "stdout",
     "output_type": "stream",
     "text": [
      "The roots of the cubic equation are:\n",
      "Root 1: (-0.3180514748921688+0.32129438723615905j)\n",
      "Root 2: (0.14253022728645426-0.27378204286645613j)\n",
      "Root 3: (0.4935727224978833-0.4764565219737727j)\n"
     ]
    }
   ],
   "source": [
    "#20. Write a program that determines the roots of a cubic equation using the Cardano formula.\n",
    "\n",
    "import cmath  # Import the complex math library\n",
    "\n",
    "# Input coefficients of the cubic equation\n",
    "a = float(input(\"Enter the coefficient a: \"))\n",
    "b = float(input(\"Enter the coefficient b: \"))\n",
    "c = float(input(\"Enter the coefficient c: \"))\n",
    "d = float(input(\"Enter the coefficient d: \"))\n",
    "\n",
    "# Calculate the discriminant and intermediate values\n",
    "p = c / a - (b ** 2) / (3 * (a ** 2))\n",
    "q = (2 * (b ** 3)) / (27 * (a ** 3)) - (b * c) / (3 * (a ** 2)) + d / a\n",
    "discriminant = (q ** 2) / 4 + (p ** 3) / 27\n",
    "\n",
    "# Calculate the cubic roots using Cardano's formula\n",
    "root1 = (-1.0 / 3) * (cmath.sqrt(-1.0 * discriminant) + q ** (1 / 3) + p / (q ** (1 / 3)))\n",
    "root2 = (-1.0 / 3) * (cmath.sqrt(-1.0 * discriminant) - (1 + cmath.sqrt(3) * 1j) * q ** (1 / 3) - p / (q ** (1 / 3)))\n",
    "root3 = (-1.0 / 3) * (cmath.sqrt(-1.0 * discriminant) - (1 - cmath.sqrt(3) * 1j) * q ** (1 / 3) - p / (q ** (1 / 3)))\n",
    "\n",
    "# Display the roots\n",
    "print(\"The roots of the cubic equation are:\")\n",
    "print(\"Root 1:\", root1)\n",
    "print(\"Root 2:\", root2)\n",
    "print(\"Root 3:\", root3)\n"
   ]
  },
  {
   "cell_type": "code",
   "execution_count": null,
   "id": "249c001c-45b1-4c65-b9f3-3349e1a20065",
   "metadata": {},
   "outputs": [],
   "source": []
  },
  {
   "cell_type": "markdown",
   "id": "2b410379-9b3d-4f10-b536-34d0b2a6d243",
   "metadata": {},
   "source": [
    "Advanced Level:"
   ]
  },
  {
   "cell_type": "code",
   "execution_count": 23,
   "id": "0c0ec220-3057-445a-934e-0e2a5ef3eb45",
   "metadata": {},
   "outputs": [
    {
     "name": "stdin",
     "output_type": "stream",
     "text": [
      "Enter your annual income:  50000\n"
     ]
    },
    {
     "name": "stdout",
     "output_type": "stream",
     "text": [
      "Your income tax is: Rs37000.00\n"
     ]
    }
   ],
   "source": [
    "#21. Create a program that calculates the income tax based on the user's income and tax brackets.\n",
    "\n",
    "# Input the user's income\n",
    "income = float(input(\"Enter your annual income: \"))\n",
    "\n",
    "# Define tax brackets and rates (adjust as needed)\n",
    "brackets = [10000, 50000, 100000, float(\"inf\")]\n",
    "rates = [0.1, 0.2, 0.3, 0.4]\n",
    "\n",
    "# Initialize tax to zero\n",
    "tax = 0\n",
    "\n",
    "# Calculate income tax\n",
    "for i in range(len(brackets)):\n",
    "    if income <= 0:\n",
    "        break\n",
    "\n",
    "    bracket_limit = brackets[i]\n",
    "\n",
    "    if income <= bracket_limit:\n",
    "        tax += income * rates[i]\n",
    "    else:\n",
    "        tax += bracket_limit * rates[i]\n",
    "        income -= bracket_limit\n",
    "\n",
    "# Display the calculated income tax\n",
    "print(f\"Your income tax is: Rs{tax:.2f}\")\n"
   ]
  },
  {
   "cell_type": "code",
   "execution_count": 24,
   "id": "c08d373b-e9c8-4271-9c28-cf3cfd37f4f1",
   "metadata": {},
   "outputs": [
    {
     "name": "stdin",
     "output_type": "stream",
     "text": [
      "Enter your choice (rock, paper, scissors, or quit):  rock\n"
     ]
    },
    {
     "name": "stdout",
     "output_type": "stream",
     "text": [
      "Computer chooses: paper\n",
      "Computer wins!\n"
     ]
    },
    {
     "name": "stdin",
     "output_type": "stream",
     "text": [
      "Enter your choice (rock, paper, scissors, or quit):  paper\n"
     ]
    },
    {
     "name": "stdout",
     "output_type": "stream",
     "text": [
      "Computer chooses: scissors\n",
      "Computer wins!\n"
     ]
    },
    {
     "name": "stdin",
     "output_type": "stream",
     "text": [
      "Enter your choice (rock, paper, scissors, or quit):  quite\n"
     ]
    },
    {
     "name": "stdout",
     "output_type": "stream",
     "text": [
      "Invalid choice. Please choose rock, paper, or scissors.\n"
     ]
    },
    {
     "name": "stdin",
     "output_type": "stream",
     "text": [
      "Enter your choice (rock, paper, scissors, or quit):  quit\n"
     ]
    }
   ],
   "source": [
    "#22. Write a program that simulates a rock-paper-scissors game against the computer.\n",
    "\n",
    "import random\n",
    "\n",
    "# Function to get the computer's choice\n",
    "def get_computer_choice():\n",
    "    choices = [\"rock\", \"paper\", \"scissors\"]\n",
    "    return random.choice(choices)\n",
    "\n",
    "# Main game loop\n",
    "while True:\n",
    "    user_choice = input(\"Enter your choice (rock, paper, scissors, or quit): \").lower()\n",
    "\n",
    "    if user_choice == 'quit':\n",
    "        break\n",
    "\n",
    "    if user_choice not in [\"rock\", \"paper\", \"scissors\"]:\n",
    "        print(\"Invalid choice. Please choose rock, paper, or scissors.\")\n",
    "        continue\n",
    "\n",
    "    computer_choice = get_computer_choice()\n",
    "    print(f\"Computer chooses: {computer_choice}\")\n",
    "\n",
    "    if user_choice == computer_choice:\n",
    "        print(\"It's a tie!\")\n",
    "    elif (user_choice == \"rock\" and computer_choice == \"scissors\") or \\\n",
    "         (user_choice == \"paper\" and computer_choice == \"rock\") or \\\n",
    "         (user_choice == \"scissors\" and computer_choice == \"paper\"):\n",
    "        print(\"You win!\")\n",
    "    else:\n",
    "        print(\"Computer wins!\")\n"
   ]
  },
  {
   "cell_type": "code",
   "execution_count": 26,
   "id": "8cc32c9f-3df3-453e-b6ab-4e59b5b59ec9",
   "metadata": {},
   "outputs": [
    {
     "name": "stdin",
     "output_type": "stream",
     "text": [
      "Enter the desired password length:  5\n",
      "Include uppercase letters? (yes/no):  yes\n",
      "Include lowercase letters? (yes/no):  yes\n",
      "Include digits? (yes/no):  yes\n",
      "Include special characters? (yes/no):  yes\n"
     ]
    },
    {
     "name": "stdout",
     "output_type": "stream",
     "text": [
      "Generated Password: ,l'O9\n"
     ]
    }
   ],
   "source": [
    "#23. Develop a program that generates a random password based on user preferences (length, complexity).\n",
    "\n",
    "import random\n",
    "import string\n",
    "\n",
    "# Function to generate a random password\n",
    "def generate_password(length, use_uppercase, use_lowercase, use_digits, use_special_chars):\n",
    "    characters = ''\n",
    "\n",
    "    if use_uppercase:\n",
    "        characters += string.ascii_uppercase\n",
    "\n",
    "    if use_lowercase:\n",
    "        characters += string.ascii_lowercase\n",
    "\n",
    "    if use_digits:\n",
    "        characters += string.digits\n",
    "\n",
    "    if use_special_chars:\n",
    "        characters += string.punctuation\n",
    "\n",
    "    if not characters:\n",
    "        print(\"Please select at least one character type.\")\n",
    "        return None\n",
    "\n",
    "    password = ''.join(random.choice(characters) for _ in range(length))\n",
    "    return password\n",
    "\n",
    "# Input preferences\n",
    "length = int(input(\"Enter the desired password length: \"))\n",
    "use_uppercase = input(\"Include uppercase letters? (yes/no): \").lower() == 'yes'\n",
    "use_lowercase = input(\"Include lowercase letters? (yes/no): \").lower() == 'yes'\n",
    "use_digits = input(\"Include digits? (yes/no): \").lower() == 'yes'\n",
    "use_special_chars = input(\"Include special characters? (yes/no): \").lower() == 'yes'\n",
    "\n",
    "# Generate and display the password\n",
    "password = generate_password(length, use_uppercase, use_lowercase, use_digits, use_special_chars)\n",
    "\n",
    "if password:\n",
    "    print(\"Generated Password:\", password)\n"
   ]
  },
  {
   "cell_type": "code",
   "execution_count": 27,
   "id": "62b7f2d4-8846-4f18-a4c3-98d7fafcc690",
   "metadata": {},
   "outputs": [
    {
     "name": "stdout",
     "output_type": "stream",
     "text": [
      "Welcome to the Text Adventure Game!\n",
      "You are in a forest. There are two paths ahead.\n",
      "\n",
      "What do you want to do?\n",
      "1. Take the left path.\n",
      "2. Take the right path.\n",
      "3. Quit the game.\n"
     ]
    },
    {
     "name": "stdin",
     "output_type": "stream",
     "text": [
      "Enter your choice (1/2/3):  1\n"
     ]
    },
    {
     "name": "stdout",
     "output_type": "stream",
     "text": [
      "You take the left path and find a treasure chest!\n",
      "You win the game!\n"
     ]
    }
   ],
   "source": [
    "#24. Create a program that implements a simple text-based adventure game with branching scenarios.\n",
    "\n",
    "import time\n",
    "\n",
    "# Function to print messages with a delay\n",
    "def print_with_delay(message, delay=1):\n",
    "    print(message)\n",
    "    time.sleep(delay)\n",
    "\n",
    "# Introduction\n",
    "print_with_delay(\"Welcome to the Text Adventure Game!\")\n",
    "print_with_delay(\"You are in a forest. There are two paths ahead.\")\n",
    "\n",
    "# Main game loop\n",
    "while True:\n",
    "    print_with_delay(\"\\nWhat do you want to do?\")\n",
    "    print_with_delay(\"1. Take the left path.\")\n",
    "    print_with_delay(\"2. Take the right path.\")\n",
    "    print_with_delay(\"3. Quit the game.\")\n",
    "\n",
    "    choice = input(\"Enter your choice (1/2/3): \")\n",
    "\n",
    "    if choice == '1':\n",
    "        print_with_delay(\"You take the left path and find a treasure chest!\")\n",
    "        print_with_delay(\"You win the game!\")\n",
    "        break\n",
    "\n",
    "    elif choice == '2':\n",
    "        print_with_delay(\"You take the right path and encounter a wild bear!\")\n",
    "        print_with_delay(\"The bear chases you away.\")\n",
    "        print_with_delay(\"You barely escape. The game continues.\")\n",
    "    \n",
    "    elif choice == '3':\n",
    "        print_with_delay(\"You quit the game. Thanks for playing!\")\n",
    "        break\n",
    "\n",
    "    else:\n",
    "        print_with_delay(\"Invalid choice. Please select 1, 2, or 3.\")\n"
   ]
  },
  {
   "cell_type": "code",
   "execution_count": 28,
   "id": "b8e7f3b2-8fbb-4a01-b517-03dfe73eb92b",
   "metadata": {},
   "outputs": [
    {
     "name": "stdin",
     "output_type": "stream",
     "text": [
      "Enter the coefficient 'a' (must be nonzero):  5\n",
      "Enter the constant 'b':  2\n"
     ]
    },
    {
     "name": "stdout",
     "output_type": "stream",
     "text": [
      "The solution for x is: -0.4\n"
     ]
    }
   ],
   "source": [
    "#25. Build a program that solves a linear equation for x, considering different cases.\n",
    "\n",
    "def solve_linear_equation(a, b):\n",
    "    if a == 0:\n",
    "        if b == 0:\n",
    "            return \"Infinite solutions (any x)\"\n",
    "        else:\n",
    "            return \"No solution\"\n",
    "\n",
    "    x = -b / a\n",
    "    return x\n",
    "\n",
    "# Input coefficients from the user\n",
    "a = float(input(\"Enter the coefficient 'a' (must be nonzero): \"))\n",
    "b = float(input(\"Enter the constant 'b': \"))\n",
    "\n",
    "# Solve the linear equation\n",
    "solution = solve_linear_equation(a, b)\n",
    "\n",
    "# Display the result\n",
    "if isinstance(solution, str):\n",
    "    print(solution)\n",
    "else:\n",
    "    print(f\"The solution for x is: {solution}\")\n"
   ]
  },
  {
   "cell_type": "code",
   "execution_count": 29,
   "id": "80dbed69-309d-4a0b-b8fc-3d663c7e260e",
   "metadata": {},
   "outputs": [
    {
     "name": "stdout",
     "output_type": "stream",
     "text": [
      "What is the capital of France?\n",
      "1. Berlin\n",
      "2. Madrid\n",
      "3. London\n",
      "4. Paris\n"
     ]
    },
    {
     "name": "stdin",
     "output_type": "stream",
     "text": [
      "Enter the number of your answer (1/2/3/4):  4\n"
     ]
    },
    {
     "name": "stdout",
     "output_type": "stream",
     "text": [
      "Which planet is known as the Red Planet?\n",
      "1. Venus\n",
      "2. Earth\n",
      "3. Mars\n",
      "4. Jupiter\n"
     ]
    },
    {
     "name": "stdin",
     "output_type": "stream",
     "text": [
      "Enter the number of your answer (1/2/3/4):  1\n"
     ]
    },
    {
     "name": "stdout",
     "output_type": "stream",
     "text": [
      "Who wrote 'Romeo and Juliet'?\n",
      "1. Jane Austen\n",
      "2. Mark Twain\n",
      "3. William Shakespeare\n",
      "4. Charles Dickens\n"
     ]
    },
    {
     "name": "stdin",
     "output_type": "stream",
     "text": [
      "Enter the number of your answer (1/2/3/4):  5\n"
     ]
    },
    {
     "name": "stdout",
     "output_type": "stream",
     "text": [
      "Invalid input. Please enter a number between 1 and 4.\n",
      "Quiz completed! Your score is: 1/3\n"
     ]
    }
   ],
   "source": [
    "#26. Write a program that simulates a basic quiz game with multiple-choice questions and scoring.\n",
    "\n",
    "import random\n",
    "\n",
    "# Define a list of questions as tuples: (question, options, correct answer)\n",
    "questions = [\n",
    "    (\"What is the capital of France?\", [\"London\", \"Madrid\", \"Paris\", \"Berlin\"], \"Paris\"),\n",
    "    (\"Which planet is known as the Red Planet?\", [\"Earth\", \"Mars\", \"Venus\", \"Jupiter\"], \"Mars\"),\n",
    "    (\"Who wrote 'Romeo and Juliet'?\", [\"Charles Dickens\", \"Jane Austen\", \"William Shakespeare\", \"Mark Twain\"], \"William Shakespeare\")\n",
    "]\n",
    "\n",
    "# Function to shuffle answer options\n",
    "def shuffle_options(options):\n",
    "    shuffled = options[:]\n",
    "    random.shuffle(shuffled)\n",
    "    return shuffled\n",
    "\n",
    "# Function to display a question and check the user's answer\n",
    "def ask_question(question, options, correct_answer):\n",
    "    print(question)\n",
    "    shuffled_options = shuffle_options(options)\n",
    "    \n",
    "    for i, option in enumerate(shuffled_options, start=1):\n",
    "        print(f\"{i}. {option}\")\n",
    "    \n",
    "    user_choice = input(\"Enter the number of your answer (1/2/3/4): \")\n",
    "    \n",
    "    if user_choice.isdigit() and 1 <= int(user_choice) <= len(options):\n",
    "        user_answer = shuffled_options[int(user_choice) - 1]\n",
    "        \n",
    "        if user_answer == correct_answer:\n",
    "            return True\n",
    "        else:\n",
    "            return False\n",
    "    else:\n",
    "        print(\"Invalid input. Please enter a number between 1 and 4.\")\n",
    "        return False\n",
    "\n",
    "# Main quiz loop\n",
    "score = 0\n",
    "\n",
    "for question, options, correct_answer in questions:\n",
    "    if ask_question(question, options, correct_answer):\n",
    "        score += 1\n",
    "\n",
    "# Display the final score\n",
    "print(f\"Quiz completed! Your score is: {score}/{len(questions)}\")\n"
   ]
  },
  {
   "cell_type": "code",
   "execution_count": 30,
   "id": "1f57612e-6c1d-4037-ac28-f096b72569f2",
   "metadata": {},
   "outputs": [
    {
     "name": "stdin",
     "output_type": "stream",
     "text": [
      "Enter a year to check for primality:  2001\n"
     ]
    },
    {
     "name": "stdout",
     "output_type": "stream",
     "text": [
      "2001 is not a prime year.\n"
     ]
    }
   ],
   "source": [
    "#27. Develop a program that determines whether a given year is a prime number or not.\n",
    "\n",
    "def is_prime(year):\n",
    "    if year <= 1:\n",
    "        return False  # 0 and 1 are not prime\n",
    "\n",
    "    if year <= 3:\n",
    "        return True  # 2 and 3 are prime\n",
    "\n",
    "    if year % 2 == 0 or year % 3 == 0:\n",
    "        return False  # Numbers divisible by 2 or 3 are not prime\n",
    "\n",
    "    # Check for prime by testing divisors up to the square root of the number\n",
    "    i = 5\n",
    "    while i * i <= year:\n",
    "        if year % i == 0 or year % (i + 2) == 0:\n",
    "            return False\n",
    "        i += 6\n",
    "\n",
    "    return True\n",
    "\n",
    "# Input the year from the user\n",
    "year = int(input(\"Enter a year to check for primality: \"))\n",
    "\n",
    "# Check if the year is prime and display the result\n",
    "if is_prime(year):\n",
    "    print(f\"{year} is a prime year.\")\n",
    "else:\n",
    "    print(f\"{year} is not a prime year.\")\n"
   ]
  },
  {
   "cell_type": "code",
   "execution_count": 31,
   "id": "57a5c609-191b-4fcb-92b3-87093c301353",
   "metadata": {},
   "outputs": [
    {
     "name": "stdin",
     "output_type": "stream",
     "text": [
      "Enter the first number:  5\n",
      "Enter the second number:  8\n",
      "Enter the third number:  9\n"
     ]
    },
    {
     "name": "stdout",
     "output_type": "stream",
     "text": [
      "Numbers in ascending order: 5.0 8.0 9.0\n"
     ]
    }
   ],
   "source": [
    "#28. Create a program that sorts three numbers in ascending order using conditional statements.\n",
    "\n",
    "# Input three numbers from the user\n",
    "num1 = float(input(\"Enter the first number: \"))\n",
    "num2 = float(input(\"Enter the second number: \"))\n",
    "num3 = float(input(\"Enter the third number: \"))\n",
    "\n",
    "# Initialize variables to store the sorted numbers\n",
    "sorted_num1 = num1\n",
    "sorted_num2 = num2\n",
    "sorted_num3 = num3\n",
    "\n",
    "# Sort the numbers using conditional statements\n",
    "if sorted_num1 > sorted_num2:\n",
    "    sorted_num1, sorted_num2 = sorted_num2, sorted_num1\n",
    "\n",
    "if sorted_num2 > sorted_num3:\n",
    "    sorted_num2, sorted_num3 = sorted_num3, sorted_num2\n",
    "\n",
    "if sorted_num1 > sorted_num2:\n",
    "    sorted_num1, sorted_num2 = sorted_num2, sorted_num1\n",
    "\n",
    "# Display the sorted numbers\n",
    "print(\"Numbers in ascending order:\", sorted_num1, sorted_num2, sorted_num3)\n"
   ]
  },
  {
   "cell_type": "code",
   "execution_count": 32,
   "id": "cad08332-73d7-4e8a-b0f4-c967fd3e0cd0",
   "metadata": {},
   "outputs": [
    {
     "name": "stdin",
     "output_type": "stream",
     "text": [
      "Enter the coefficient 'a':  5\n",
      "Enter the coefficient 'b':  2\n",
      "Enter the coefficient 'c':  4\n",
      "Enter the coefficient 'd':  8\n",
      "Enter the coefficient 'e':  1\n"
     ]
    },
    {
     "name": "stdout",
     "output_type": "stream",
     "text": [
      "Approximate root: -0.13351688192218159\n"
     ]
    }
   ],
   "source": [
    "#29. Build a program that determines the roots of a quartic equation using numerical methods.\n",
    "\n",
    "# Input coefficients of the quartic equation: ax^4 + bx^3 + cx^2 + dx + e = 0\n",
    "a = float(input(\"Enter the coefficient 'a': \"))\n",
    "b = float(input(\"Enter the coefficient 'b': \"))\n",
    "c = float(input(\"Enter the coefficient 'c': \"))\n",
    "d = float(input(\"Enter the coefficient 'd': \"))\n",
    "e = float(input(\"Enter the coefficient 'e': \"))\n",
    "\n",
    "# Initial guess for the root (you can change this)\n",
    "x_guess = 1.0\n",
    "\n",
    "# Maximum number of iterations and tolerance for convergence\n",
    "max_iterations = 100\n",
    "tolerance = 1e-6\n",
    "\n",
    "# Newton-Raphson method for finding the root\n",
    "for iteration in range(max_iterations):\n",
    "    f_x = a * x_guess**4 + b * x_guess**3 + c * x_guess**2 + d * x_guess + e\n",
    "    f_prime_x = 4 * a * x_guess**3 + 3 * b * x_guess**2 + 2 * c * x_guess + d\n",
    "\n",
    "    x_next = x_guess - f_x / f_prime_x\n",
    "\n",
    "    if abs(x_next - x_guess) < tolerance:\n",
    "        break\n",
    "\n",
    "    x_guess = x_next\n",
    "\n",
    "# Display the approximate root\n",
    "print(\"Approximate root:\", x_guess)\n"
   ]
  },
  {
   "cell_type": "code",
   "execution_count": 33,
   "id": "e8bcf762-ef22-47e8-bbea-eee696b34d1f",
   "metadata": {},
   "outputs": [
    {
     "name": "stdin",
     "output_type": "stream",
     "text": [
      "Enter your weight (in kg):  67\n",
      "Enter your height (in meters):  3\n"
     ]
    },
    {
     "name": "stdout",
     "output_type": "stream",
     "text": [
      "Your BMI is: 7.44\n",
      "You are underweight. Consider gaining some weight.\n"
     ]
    }
   ],
   "source": [
    "#30. Write a program that calculates the BMI (Body Mass Index) and provides health recommendations based on the user's input.\n",
    "\n",
    "# Input weight (in kilograms) and height (in meters) from the user\n",
    "weight = float(input(\"Enter your weight (in kg): \"))\n",
    "height = float(input(\"Enter your height (in meters): \"))\n",
    "\n",
    "# Calculate BMI\n",
    "bmi = weight / (height ** 2)\n",
    "\n",
    "# Display BMI\n",
    "print(f\"Your BMI is: {bmi:.2f}\")\n",
    "\n",
    "# Provide basic health recommendations\n",
    "if bmi < 18.5:\n",
    "    print(\"You are underweight. Consider gaining some weight.\")\n",
    "elif 18.5 <= bmi < 24.9:\n",
    "    print(\"Your weight is in the healthy range. Keep up the good work!\")\n",
    "elif 24.9 <= bmi < 29.9:\n",
    "    print(\"You are overweight. Consider losing some weight for better health.\")\n",
    "else:\n",
    "    print(\"You are obese. Consult a healthcare professional for guidance.\")\n"
   ]
  },
  {
   "cell_type": "code",
   "execution_count": null,
   "id": "ff52c9ef-b47f-48b5-b7d9-c583e0a47be7",
   "metadata": {},
   "outputs": [],
   "source": []
  },
  {
   "cell_type": "markdown",
   "id": "8dc91d85-65fd-4b15-a73b-769770e28753",
   "metadata": {},
   "source": [
    "Challenge Level:"
   ]
  },
  {
   "cell_type": "code",
   "execution_count": 35,
   "id": "b1c4e033-4a85-4f29-8725-006350b27b66",
   "metadata": {},
   "outputs": [
    {
     "name": "stdin",
     "output_type": "stream",
     "text": [
      "Enter your password:  Manimay@1324\n"
     ]
    },
    {
     "name": "stdout",
     "output_type": "stream",
     "text": [
      "Password is valid.\n"
     ]
    }
   ],
   "source": [
    "#31. Create a program that validates a password based on complexity rules (length, characters, etc.).\n",
    "# Input a password from the user\n",
    "password = input(\"Enter your password: \")\n",
    "\n",
    "# Check the length of the password\n",
    "if len(password) < 8:\n",
    "    print(\"Password should be at least 8 characters long.\")\n",
    "elif not any(char.isupper() for char in password):\n",
    "    print(\"Password should contain at least one uppercase letter.\")\n",
    "elif not any(char.islower() for char in password):\n",
    "    print(\"Password should contain at least one lowercase letter.\")\n",
    "elif not any(char.isdigit() for char in password):\n",
    "    print(\"Password should contain at least one digit.\")\n",
    "elif not any(char in \"!@#$%^&*()_+{}[]:;<>,.?~\\\\-\" for char in password):\n",
    "    print(\"Password should contain at least one special character.\")\n",
    "else:\n",
    "    print(\"Password is valid.\")\n"
   ]
  },
  {
   "cell_type": "code",
   "execution_count": 38,
   "id": "c28c5540-9eef-4ebf-a9f9-486c08dc786d",
   "metadata": {},
   "outputs": [
    {
     "name": "stdin",
     "output_type": "stream",
     "text": [
      "Enter the number of rows:  2\n",
      "Enter the number of columns:  2\n"
     ]
    },
    {
     "name": "stdout",
     "output_type": "stream",
     "text": [
      "Enter values for the first matrix:\n"
     ]
    },
    {
     "name": "stdin",
     "output_type": "stream",
     "text": [
      "Enter element at position (1, 1):  1\n",
      "Enter element at position (1, 2):  2\n",
      "Enter element at position (2, 1):  1\n",
      "Enter element at position (2, 2):  2\n"
     ]
    },
    {
     "name": "stdout",
     "output_type": "stream",
     "text": [
      "Enter values for the second matrix:\n"
     ]
    },
    {
     "name": "stdin",
     "output_type": "stream",
     "text": [
      "Enter element at position (1, 1):  1\n",
      "Enter element at position (1, 2):  4\n",
      "Enter element at position (2, 1):  5\n",
      "Enter element at position (2, 2):  6\n"
     ]
    },
    {
     "name": "stdout",
     "output_type": "stream",
     "text": [
      "Matrix 1:\n",
      "[1.0, 2.0]\n",
      "[1.0, 2.0]\n",
      "Matrix 2:\n",
      "[1.0, 4.0]\n",
      "[5.0, 6.0]\n",
      "Matrix Addition:\n",
      "[2.0, 6.0]\n",
      "[6.0, 8.0]\n",
      "Matrix Subtraction:\n",
      "[0.0, -2.0]\n",
      "[-4.0, -4.0]\n"
     ]
    }
   ],
   "source": [
    "# 32. Develop a program that performs matrix addition and subtraction based on user input.\n",
    "\n",
    "# Input matrix dimensions from the user\n",
    "rows = int(input(\"Enter the number of rows: \"))\n",
    "cols = int(input(\"Enter the number of columns: \"))\n",
    "\n",
    "# Initialize and input values for the first matrix\n",
    "matrix1 = []\n",
    "print(\"Enter values for the first matrix:\")\n",
    "for i in range(rows):\n",
    "    row = []\n",
    "    for j in range(cols):\n",
    "        value = float(input(f\"Enter element at position ({i+1}, {j+1}): \"))\n",
    "        row.append(value)\n",
    "    matrix1.append(row)\n",
    "\n",
    "# Initialize and input values for the second matrix\n",
    "matrix2 = []\n",
    "print(\"Enter values for the second matrix:\")\n",
    "for i in range(rows):\n",
    "    row = []\n",
    "    for j in range(cols):\n",
    "        value = float(input(f\"Enter element at position ({i+1}, {j+1}): \"))\n",
    "        row.append(value)\n",
    "    matrix2.append(row)\n",
    "\n",
    "# Perform matrix addition\n",
    "sum_matrix = [[matrix1[i][j] + matrix2[i][j] for j in range(cols)] for i in range(rows)]\n",
    "\n",
    "# Perform matrix subtraction\n",
    "diff_matrix = [[matrix1[i][j] - matrix2[i][j] for j in range(cols)] for i in range(rows)]\n",
    "\n",
    "# Display the original matrices and results\n",
    "print(\"Matrix 1:\")\n",
    "for row in matrix1:\n",
    "    print(row)\n",
    "\n",
    "print(\"Matrix 2:\")\n",
    "for row in matrix2:\n",
    "    print(row)\n",
    "\n",
    "print(\"Matrix Addition:\")\n",
    "for row in sum_matrix:\n",
    "    print(row)\n",
    "\n",
    "print(\"Matrix Subtraction:\")\n",
    "for row in diff_matrix:\n",
    "    print(row)\n"
   ]
  },
  {
   "cell_type": "code",
   "execution_count": 1,
   "id": "43b1dfd6-28de-45f6-933d-a1347f900ddf",
   "metadata": {},
   "outputs": [
    {
     "name": "stdin",
     "output_type": "stream",
     "text": [
      "Enter the first number:  55\n",
      "Enter the second number:  66\n"
     ]
    },
    {
     "name": "stdout",
     "output_type": "stream",
     "text": [
      "The GCD of 55 and 66 is 11\n"
     ]
    }
   ],
   "source": [
    "#33. Write a program that calculates the greatest common divisor (GCD) of two numbers using the Euclidean algorithm.\n",
    "\n",
    "def gcd_euclidean(a, b):\n",
    "    while b:\n",
    "        a, b = b, a % b\n",
    "    return a\n",
    "\n",
    "# Input two numbers\n",
    "num1 = int(input(\"Enter the first number: \"))\n",
    "num2 = int(input(\"Enter the second number: \"))\n",
    "\n",
    "# Calculate and print the GCD\n",
    "gcd = gcd_euclidean(num1, num2)\n",
    "print(f\"The GCD of {num1} and {num2} is {gcd}\")\n"
   ]
  },
  {
   "cell_type": "code",
   "execution_count": 2,
   "id": "f78b35c3-45a1-495d-a7ce-7b3c22ddd2f7",
   "metadata": {
    "jp-MarkdownHeadingCollapsed": true,
    "tags": []
   },
   "outputs": [
    {
     "name": "stdout",
     "output_type": "stream",
     "text": [
      "Result of matrix multiplication:\n",
      "[58, 64]\n",
      "[139, 154]\n"
     ]
    }
   ],
   "source": [
    "#34. Build a program that performs matrix multiplication using nested loops and conditional statements.\n",
    "\n",
    "def matrix_multiply(matrix1, matrix2):\n",
    "    # Check if the matrices can be multiplied\n",
    "    if len(matrix1[0]) != len(matrix2):\n",
    "        print(\"Matrix multiplication is not possible.\")\n",
    "        return None\n",
    "\n",
    "    # Initialize the result matrix with zeros\n",
    "    result = [[0 for _ in range(len(matrix2[0]))] for _ in range(len(matrix1))]\n",
    "\n",
    "    # Perform matrix multiplication\n",
    "    for i in range(len(matrix1)):\n",
    "        for j in range(len(matrix2[0])):\n",
    "            for k in range(len(matrix2)):\n",
    "                result[i][j] += matrix1[i][k] * matrix2[k][j]\n",
    "\n",
    "    return result\n",
    "\n",
    "# Input matrices\n",
    "matrix1 = [\n",
    "    [1, 2, 3],\n",
    "    [4, 5, 6],\n",
    "]\n",
    "\n",
    "matrix2 = [\n",
    "    [7, 8],\n",
    "    [9, 10],\n",
    "    [11, 12],\n",
    "]\n",
    "\n",
    "# Perform matrix multiplication\n",
    "result_matrix = matrix_multiply(matrix1, matrix2)\n",
    "\n",
    "# Display the result matrix\n",
    "if result_matrix:\n",
    "    print(\"Result of matrix multiplication:\")\n",
    "    for row in result_matrix:\n",
    "        print(row)\n"
   ]
  },
  {
   "cell_type": "code",
   "execution_count": 4,
   "id": "d088aa81-23cc-480d-8005-360caf26aec9",
   "metadata": {},
   "outputs": [
    {
     "name": "stdout",
     "output_type": "stream",
     "text": [
      "Welcome to Tic-Tac-Toe against the computer!\n",
      "  |   |  \n",
      "---------\n",
      "  |   |  \n",
      "---------\n",
      "  |   |  \n",
      "---------\n"
     ]
    },
    {
     "name": "stdin",
     "output_type": "stream",
     "text": [
      "Enter your move (row and column, e.g., '0 0'):  0 0\n"
     ]
    },
    {
     "name": "stdout",
     "output_type": "stream",
     "text": [
      "X |   |  \n",
      "---------\n",
      "  |   |  \n",
      "---------\n",
      "  |   |  \n",
      "---------\n",
      "X |   |  \n",
      "---------\n",
      "  | O |  \n",
      "---------\n",
      "  |   |  \n",
      "---------\n"
     ]
    },
    {
     "name": "stdin",
     "output_type": "stream",
     "text": [
      "Enter your move (row and column, e.g., '0 0'):  0 1\n"
     ]
    },
    {
     "name": "stdout",
     "output_type": "stream",
     "text": [
      "X | X |  \n",
      "---------\n",
      "  | O |  \n",
      "---------\n",
      "  |   |  \n",
      "---------\n",
      "X | X |  \n",
      "---------\n",
      "  | O |  \n",
      "---------\n",
      "  |   | O\n",
      "---------\n"
     ]
    },
    {
     "name": "stdin",
     "output_type": "stream",
     "text": [
      "Enter your move (row and column, e.g., '0 0'):  0 2\n"
     ]
    },
    {
     "name": "stdout",
     "output_type": "stream",
     "text": [
      "X | X | X\n",
      "---------\n",
      "  | O |  \n",
      "---------\n",
      "  |   | O\n",
      "---------\n",
      "X wins!\n",
      "Game over. Thanks for playing!\n"
     ]
    }
   ],
   "source": [
    "#35. Create a program that simulates a basic text-based tic-tac-toe game against the computer.\n",
    "\n",
    "\n",
    "import random\n",
    "\n",
    "def print_board(board):\n",
    "    for row in board:\n",
    "        print(\" | \".join(row))\n",
    "        print(\"-\" * 9)\n",
    "\n",
    "def check_win(board, player):\n",
    "    for row in board:\n",
    "        if all(cell == player for cell in row):\n",
    "            return True\n",
    "    for col in range(3):\n",
    "        if all(board[row][col] == player for row in range(3)):\n",
    "            return True\n",
    "    if all(board[i][i] == player for i in range(3)) or all(board[i][2 - i] == player for i in range(3)):\n",
    "        return True\n",
    "    return False\n",
    "\n",
    "def computer_move(board):\n",
    "    while True:\n",
    "        row = random.randint(0, 2)\n",
    "        col = random.randint(0, 2)\n",
    "        if board[row][col] == ' ':\n",
    "            return row, col\n",
    "\n",
    "board = [[' ' for _ in range(3)] for _ in range(3)]\n",
    "player = 'X'\n",
    "computer = 'O'\n",
    "game_over = False\n",
    "\n",
    "print(\"Welcome to Tic-Tac-Toe against the computer!\")\n",
    "print_board(board)\n",
    "\n",
    "while not game_over:\n",
    "    if player == 'X':\n",
    "        row, col = map(int, input(\"Enter your move (row and column, e.g., '0 0'): \").split())\n",
    "    else:\n",
    "        row, col = computer_move(board)\n",
    "\n",
    "    if board[row][col] == ' ':\n",
    "        board[row][col] = player\n",
    "        print_board(board)\n",
    "\n",
    "        if check_win(board, player):\n",
    "            print(f\"{player} wins!\")\n",
    "            game_over = True\n",
    "        elif all(board[i][j] != ' ' for i in range(3) for j in range(3)):\n",
    "            print(\"It's a draw!\")\n",
    "            game_over = True\n",
    "\n",
    "        player = 'X' if player == 'O' else 'O'\n",
    "    else:\n",
    "        print(\"Invalid move. Try again.\")\n",
    "\n",
    "print(\"Game over. Thanks for playing!\")\n"
   ]
  },
  {
   "cell_type": "code",
   "execution_count": 5,
   "id": "1b23bdb6-ce0a-4eaa-97ee-69dc71875bce",
   "metadata": {},
   "outputs": [
    {
     "name": "stdin",
     "output_type": "stream",
     "text": [
      "Enter the number of Fibonacci terms to generate:  5\n"
     ]
    },
    {
     "name": "stdout",
     "output_type": "stream",
     "text": [
      "Fibonacci sequence up to term 5 :\n",
      "[0, 1, 1, 2, 3]\n"
     ]
    }
   ],
   "source": [
    "#36. Write a program that generates Fibonacci numbers up to a specified term using iterative methods.\n",
    "\n",
    "\n",
    "def generate_fibonacci(n):\n",
    "    fibonacci_sequence = []\n",
    "    \n",
    "    if n <= 0:\n",
    "        return fibonacci_sequence\n",
    "    \n",
    "    a, b = 0, 1\n",
    "    for _ in range(n):\n",
    "        fibonacci_sequence.append(a)\n",
    "        a, b = b, a + b\n",
    "    \n",
    "    return fibonacci_sequence\n",
    "\n",
    "# Input the number of terms you want to generate\n",
    "n = int(input(\"Enter the number of Fibonacci terms to generate: \"))\n",
    "\n",
    "if n <= 0:\n",
    "    print(\"Please enter a positive integer.\")\n",
    "else:\n",
    "    fibonacci_sequence = generate_fibonacci(n)\n",
    "    print(\"Fibonacci sequence up to term\", n, \":\")\n",
    "    print(fibonacci_sequence)\n"
   ]
  },
  {
   "cell_type": "code",
   "execution_count": 6,
   "id": "6b7571d6-cc5d-49f1-88eb-4d22d25c49fa",
   "metadata": {},
   "outputs": [
    {
     "name": "stdin",
     "output_type": "stream",
     "text": [
      "Enter the value of n to find the nth Fibonacci number:  5\n"
     ]
    },
    {
     "name": "stdout",
     "output_type": "stream",
     "text": [
      "The 5th Fibonacci number is: 5\n"
     ]
    }
   ],
   "source": [
    "#37. Develop a program that calculates the nth term of the Fibonacci sequence using memoization.\n",
    "\n",
    "# Dictionary to store already computed Fibonacci numbers\n",
    "fib_cache = {}\n",
    "\n",
    "def fibonacci(n):\n",
    "    # Check if the value is already in the cache\n",
    "    if n in fib_cache:\n",
    "        return fib_cache[n]\n",
    "    \n",
    "    # Base cases\n",
    "    if n == 0:\n",
    "        result = 0\n",
    "    elif n == 1:\n",
    "        result = 1\n",
    "    else:\n",
    "        # Recursive case: Calculate the Fibonacci number\n",
    "        result = fibonacci(n - 1) + fibonacci(n - 2)\n",
    "    \n",
    "    # Cache the result and return it\n",
    "    fib_cache[n] = result\n",
    "    return result\n",
    "\n",
    "# Input the value of n\n",
    "n = int(input(\"Enter the value of n to find the nth Fibonacci number: \"))\n",
    "\n",
    "if n < 0:\n",
    "    print(\"Please enter a non-negative integer.\")\n",
    "else:\n",
    "    result = fibonacci(n)\n",
    "    print(f\"The {n}th Fibonacci number is: {result}\")\n"
   ]
  },
  {
   "cell_type": "code",
   "execution_count": 7,
   "id": "7704e545-2a47-45e1-bb7f-eef8342a3642",
   "metadata": {},
   "outputs": [
    {
     "name": "stdin",
     "output_type": "stream",
     "text": [
      "Enter the year:  2001\n",
      "Enter the month (1-12):  5\n"
     ]
    },
    {
     "name": "stdout",
     "output_type": "stream",
     "text": [
      "\n",
      "Calendar for 5/2001:\n",
      "\n",
      "      May 2001\n",
      "Mo Tu We Th Fr Sa Su\n",
      "    1  2  3  4  5  6\n",
      " 7  8  9 10 11 12 13\n",
      "14 15 16 17 18 19 20\n",
      "21 22 23 24 25 26 27\n",
      "28 29 30 31\n",
      "\n"
     ]
    }
   ],
   "source": [
    "#38. Create a program that generates a calendar for a given month and year using conditional statements.\n",
    "\n",
    "import calendar\n",
    "\n",
    "# Input month and year\n",
    "year = int(input(\"Enter the year: \"))\n",
    "month = int(input(\"Enter the month (1-12): \"))\n",
    "\n",
    "# Validate input\n",
    "if month < 1 or month > 12:\n",
    "    print(\"Invalid month. Please enter a number between 1 and 12.\")\n",
    "else:\n",
    "    # Create a calendar object for the specified month and year\n",
    "    cal = calendar.month(year, month)\n",
    "    \n",
    "    # Display the calendar\n",
    "    print(\"\\nCalendar for {}/{}:\\n\".format(month, year))\n",
    "    print(cal)\n"
   ]
  },
  {
   "cell_type": "code",
   "execution_count": 8,
   "id": "bd75a22d-9676-4dbe-b60d-015f6d882d31",
   "metadata": {},
   "outputs": [
    {
     "name": "stdout",
     "output_type": "stream",
     "text": [
      "\n",
      "Your hand: [7, 4]\n",
      "Total: 11\n"
     ]
    },
    {
     "name": "stdin",
     "output_type": "stream",
     "text": [
      "Do you want to hit or stand?  hit\n"
     ]
    },
    {
     "name": "stdout",
     "output_type": "stream",
     "text": [
      "\n",
      "Your hand: [7, 4, 10]\n",
      "Total: 21\n",
      "Blackjack! You win!\n"
     ]
    }
   ],
   "source": [
    "#39. Build a program that simulates a basic text-based blackjack game against the computer.\n",
    "\n",
    "import random\n",
    "\n",
    "# Initialize deck and hands\n",
    "deck = [2, 3, 4, 5, 6, 7, 8, 9, 10, 10, 10, 10, 11] * 4\n",
    "random.shuffle(deck)\n",
    "player_hand = []\n",
    "computer_hand = []\n",
    "\n",
    "# Function to calculate hand total\n",
    "def calculate_hand_total(hand):\n",
    "    total = sum(hand)\n",
    "    if total > 21 and 11 in hand:\n",
    "        hand.remove(11)\n",
    "        hand.append(1)\n",
    "        total = sum(hand)\n",
    "    return total\n",
    "\n",
    "# Deal two initial cards to the player and computer\n",
    "for _ in range(2):\n",
    "    player_hand.append(deck.pop())\n",
    "    computer_hand.append(deck.pop())\n",
    "\n",
    "# Main game loop\n",
    "while True:\n",
    "    # Display player's hand and total\n",
    "    print(\"\\nYour hand:\", player_hand)\n",
    "    player_total = calculate_hand_total(player_hand)\n",
    "    print(f\"Total: {player_total}\")\n",
    "\n",
    "    # Check if the player has won or busted\n",
    "    if player_total == 21:\n",
    "        print(\"Blackjack! You win!\")\n",
    "        break\n",
    "    elif player_total > 21:\n",
    "        print(\"Bust! You lose.\")\n",
    "        break\n",
    "\n",
    "    # Ask the player for their move\n",
    "    choice = input(\"Do you want to hit or stand? \").strip().lower()\n",
    "\n",
    "    if choice == \"hit\":\n",
    "        player_hand.append(deck.pop())\n",
    "    elif choice == \"stand\":\n",
    "        # Computer's turn\n",
    "        while calculate_hand_total(computer_hand) < 17:\n",
    "            computer_hand.append(deck.pop())\n",
    "\n",
    "        # Display computer's hand and total\n",
    "        print(\"\\nComputer's hand:\", computer_hand)\n",
    "        computer_total = calculate_hand_total(computer_hand)\n",
    "        print(f\"Total: {computer_total}\")\n",
    "\n",
    "        # Determine the winner\n",
    "        if computer_total > 21:\n",
    "            print(\"Computer busts! You win!\")\n",
    "        elif computer_total > player_total:\n",
    "            print(\"Computer wins!\")\n",
    "        elif player_total > computer_total:\n",
    "            print(\"You win!\")\n",
    "        else:\n",
    "            print(\"It's a tie!\")\n",
    "\n",
    "        break\n",
    "    else:\n",
    "        print(\"Invalid choice. Please enter 'hit' or 'stand'.\")\n"
   ]
  },
  {
   "cell_type": "code",
   "execution_count": 9,
   "id": "82a1a2c0-3d34-465c-9980-82d38c03d62a",
   "metadata": {},
   "outputs": [
    {
     "name": "stdin",
     "output_type": "stream",
     "text": [
      "Enter a positive integer:  5\n"
     ]
    },
    {
     "name": "stdout",
     "output_type": "stream",
     "text": [
      "5 is a prime number.\n"
     ]
    }
   ],
   "source": [
    "#40. Write a program that generates the prime factors of a given number using trial division.\n",
    "\n",
    "def prime_factors(n):\n",
    "    factors = []\n",
    "    # Start dividing by 2 until it's no longer divisible\n",
    "    while n % 2 == 0:\n",
    "        factors.append(2)\n",
    "        n //= 2\n",
    "    # Check for odd prime factors\n",
    "    for i in range(3, int(n**0.5) + 1, 2):\n",
    "        while n % i == 0:\n",
    "            factors.append(i)\n",
    "            n //= i\n",
    "    # If n is still greater than 1, it's a prime factor itself\n",
    "    if n > 1:\n",
    "        factors.append(n)\n",
    "    return factors\n",
    "\n",
    "# Input a number\n",
    "num = int(input(\"Enter a positive integer: \"))\n",
    "\n",
    "if num <= 0:\n",
    "    print(\"Please enter a positive integer.\")\n",
    "else:\n",
    "    factors = prime_factors(num)\n",
    "    if len(factors) == 1:\n",
    "        print(f\"{num} is a prime number.\")\n",
    "    else:\n",
    "        print(f\"Prime factors of {num}: {', '.join(map(str, factors))}\")\n"
   ]
  },
  {
   "cell_type": "code",
   "execution_count": null,
   "id": "938001a6-b901-4f3d-afd0-b90f1917cc3c",
   "metadata": {},
   "outputs": [],
   "source": []
  }
 ],
 "metadata": {
  "kernelspec": {
   "display_name": "Python 3 (ipykernel)",
   "language": "python",
   "name": "python3"
  },
  "language_info": {
   "codemirror_mode": {
    "name": "ipython",
    "version": 3
   },
   "file_extension": ".py",
   "mimetype": "text/x-python",
   "name": "python",
   "nbconvert_exporter": "python",
   "pygments_lexer": "ipython3",
   "version": "3.10.8"
  }
 },
 "nbformat": 4,
 "nbformat_minor": 5
}
